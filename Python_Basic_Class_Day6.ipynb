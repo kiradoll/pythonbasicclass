{
  "nbformat": 4,
  "nbformat_minor": 0,
  "metadata": {
    "colab": {
      "name": "Python Basic Class Day6.ipynb",
      "provenance": [],
      "authorship_tag": "ABX9TyPUsUgogJwBLfjUgcz8CrIO",
      "include_colab_link": true
    },
    "kernelspec": {
      "name": "python3",
      "display_name": "Python 3"
    },
    "language_info": {
      "name": "python"
    }
  },
  "cells": [
    {
      "cell_type": "markdown",
      "metadata": {
        "id": "view-in-github",
        "colab_type": "text"
      },
      "source": [
        "<a href=\"https://colab.research.google.com/github/kiradoll/pythonbasicclass/blob/main/Python_Basic_Class_Day6.ipynb\" target=\"_parent\"><img src=\"https://colab.research.google.com/assets/colab-badge.svg\" alt=\"Open In Colab\"/></a>"
      ]
    },
    {
      "cell_type": "code",
      "execution_count": 1,
      "metadata": {
        "colab": {
          "base_uri": "https://localhost:8080/"
        },
        "id": "O9OrzM5PYfm4",
        "outputId": "3c5940ce-ed39-4322-a740-6bf2c6ff3859"
      },
      "outputs": [
        {
          "output_type": "stream",
          "name": "stdout",
          "text": [
            "1\n",
            "2\n",
            "3\n"
          ]
        }
      ],
      "source": [
        "# 116 page\n",
        "\n",
        "# for  반복문, 주로 반복횟수를 명확히 알고 있을 때 사용\n",
        "\n",
        "# for 변수 in 반복객체:\n",
        "# 반복실행\n",
        "\n",
        "for i in [1,2,3]:\n",
        "  print(i)"
      ]
    },
    {
      "cell_type": "code",
      "source": [
        "for i in 'Hello':\n",
        "  print(i)"
      ],
      "metadata": {
        "colab": {
          "base_uri": "https://localhost:8080/"
        },
        "id": "oyZGeVlrZjyZ",
        "outputId": "c4af3d57-334d-4e1f-8325-13ef74d2f2cb"
      },
      "execution_count": 3,
      "outputs": [
        {
          "output_type": "stream",
          "name": "stdout",
          "text": [
            "H\n",
            "e\n",
            "l\n",
            "l\n",
            "o\n"
          ]
        }
      ]
    },
    {
      "cell_type": "code",
      "source": [
        "for item in ['가위','바위','보']:\n",
        "  print(item)"
      ],
      "metadata": {
        "colab": {
          "base_uri": "https://localhost:8080/"
        },
        "id": "4PJH6FzYZs__",
        "outputId": "e8ed2c4b-f495-440f-800c-afb4325f5a5d"
      },
      "execution_count": 5,
      "outputs": [
        {
          "output_type": "stream",
          "name": "stdout",
          "text": [
            "가위\n",
            "바위\n",
            "보\n"
          ]
        }
      ]
    },
    {
      "cell_type": "code",
      "source": [
        "# 리스트 내포 : for 문을 이용해서 리스트를 간단히 생성한다.\n",
        "\n",
        "[n*2   for n in [1,2,3]]"
      ],
      "metadata": {
        "colab": {
          "base_uri": "https://localhost:8080/"
        },
        "id": "OA9vk2uzZ-sp",
        "outputId": "6b10d5f1-fd11-4688-8156-b4a9e6603cc9"
      },
      "execution_count": 6,
      "outputs": [
        {
          "output_type": "execute_result",
          "data": {
            "text/plain": [
              "[2, 4, 6]"
            ]
          },
          "metadata": {},
          "execution_count": 6
        }
      ]
    },
    {
      "cell_type": "code",
      "source": [
        "[n*2      for n in [1,2,3,4,5]       if n%2 == 1 ]"
      ],
      "metadata": {
        "colab": {
          "base_uri": "https://localhost:8080/"
        },
        "id": "WDKePS5-aSvr",
        "outputId": "943c969e-f08b-4074-884b-2af0ec4b7afe"
      },
      "execution_count": 7,
      "outputs": [
        {
          "output_type": "execute_result",
          "data": {
            "text/plain": [
              "[2, 6, 10]"
            ]
          },
          "metadata": {},
          "execution_count": 7
        }
      ]
    },
    {
      "cell_type": "code",
      "source": [
        "four_seasons = ('Spring','Summer','Autumn','Winter')\n",
        "for season in four_seasons:\n",
        "  print(season)"
      ],
      "metadata": {
        "colab": {
          "base_uri": "https://localhost:8080/"
        },
        "id": "y2kBQqila4Wi",
        "outputId": "62131122-22f5-4354-f028-fd0e4227b7d7"
      },
      "execution_count": 8,
      "outputs": [
        {
          "output_type": "stream",
          "name": "stdout",
          "text": [
            "Spring\n",
            "Summer\n",
            "Autumn\n",
            "Winter\n"
          ]
        }
      ]
    },
    {
      "cell_type": "code",
      "source": [
        "# range()\n",
        "# 정수 범위를 만들어 낼때 유용한 아주 많이 for문과 사용되는 함수\n",
        "\n",
        "# range(start, stop, step)  # start(0부터), step(1씩 증가)은 생략 가능\n",
        "\n",
        "print(list(range(5)))  # start생략, step생략 0,1,2,3,4   0부터 5미만\n",
        "print(list(range(1,11)))  # step만 생략 1부터 11미만\n",
        "print(tuple(range(5)))"
      ],
      "metadata": {
        "colab": {
          "base_uri": "https://localhost:8080/"
        },
        "id": "Z-j-9mVNb81_",
        "outputId": "e0234d3e-484e-4ac6-8fc3-d1feb171b06b"
      },
      "execution_count": 10,
      "outputs": [
        {
          "output_type": "stream",
          "name": "stdout",
          "text": [
            "[0, 1, 2, 3, 4]\n",
            "[1, 2, 3, 4, 5, 6, 7, 8, 9, 10]\n",
            "(0, 1, 2, 3, 4)\n"
          ]
        }
      ]
    },
    {
      "cell_type": "code",
      "source": [
        "for i in range(1, 11):\n",
        "  print('Hi')"
      ],
      "metadata": {
        "colab": {
          "base_uri": "https://localhost:8080/"
        },
        "id": "8F6Y-EsgdUfQ",
        "outputId": "d907f802-b9d1-4624-df3d-981626967dca"
      },
      "execution_count": 14,
      "outputs": [
        {
          "output_type": "stream",
          "name": "stdout",
          "text": [
            "Hi\n",
            "Hi\n",
            "Hi\n",
            "Hi\n",
            "Hi\n",
            "Hi\n",
            "Hi\n",
            "Hi\n",
            "Hi\n",
            "Hi\n"
          ]
        }
      ]
    },
    {
      "cell_type": "code",
      "source": [
        "for item in {'가위','바위','보'}:\n",
        "  print(item)"
      ],
      "metadata": {
        "colab": {
          "base_uri": "https://localhost:8080/"
        },
        "id": "mlh2s4fqdsGb",
        "outputId": "6f1c18b7-293c-4b3e-d2a2-3db72fddfc4f"
      },
      "execution_count": 16,
      "outputs": [
        {
          "output_type": "stream",
          "name": "stdout",
          "text": [
            "가위\n",
            "보\n",
            "바위\n"
          ]
        }
      ]
    },
    {
      "cell_type": "code",
      "source": [
        "person = {\n",
        "  'name':'에밀리',\n",
        "  'age':20\n",
        "}\n",
        "\n",
        "for item in person:\n",
        "  print(item, person[item])"
      ],
      "metadata": {
        "colab": {
          "base_uri": "https://localhost:8080/"
        },
        "id": "pEWs6_sleBy_",
        "outputId": "0fda9fd8-f3a0-41ee-9e0b-79d859e75fca"
      },
      "execution_count": 18,
      "outputs": [
        {
          "output_type": "stream",
          "name": "stdout",
          "text": [
            "name 에밀리\n",
            "age 20\n"
          ]
        }
      ]
    },
    {
      "cell_type": "code",
      "source": [
        "# 129\n",
        "# 1\n",
        "\n",
        "for i in range(5,0,-1):   #for i in range(start,stop,step)\n",
        "  print(i)"
      ],
      "metadata": {
        "colab": {
          "base_uri": "https://localhost:8080/"
        },
        "id": "CISYORnqerj_",
        "outputId": "6ce4a8f7-c457-4f98-cf86-a984dd6120c3"
      },
      "execution_count": 19,
      "outputs": [
        {
          "output_type": "stream",
          "name": "stdout",
          "text": [
            "5\n",
            "4\n",
            "3\n",
            "2\n",
            "1\n"
          ]
        }
      ]
    },
    {
      "cell_type": "code",
      "source": [
        "# 2\n",
        "\n",
        "no = int(input('임의의 양수를 입력하세요 >>> '))\n",
        "sum = 0   #초기값\n",
        "for i in range(1,no+1):\n",
        "  sum = sum + i   # sum += i\n",
        "# print(sum)\n",
        "\n",
        "print(f'1부터 {no}사이 모든 정수의 합계는 {sum}입니다.')"
      ],
      "metadata": {
        "colab": {
          "base_uri": "https://localhost:8080/"
        },
        "id": "iOqv8bnZfB_q",
        "outputId": "1e2dffcc-cf3e-48fa-fa38-f4405845dc68"
      },
      "execution_count": 26,
      "outputs": [
        {
          "output_type": "stream",
          "name": "stdout",
          "text": [
            "임의의 양수를 입력하세요 >>> 5\n",
            "1부터 5사이 모든 정수의 합계는 15입니다.\n"
          ]
        }
      ]
    },
    {
      "cell_type": "code",
      "source": [
        "# 3\n",
        "no = int(input('몇 개의 과일을 보관할까요? >>> '))\n",
        "fruits = []\n",
        "for i in range(1,no+1):\n",
        "  fruit = input(f'{i}번째 과일을 입력하세요 >>> ')\n",
        "  fruits.append(fruit)\n",
        "\n",
        "print(f'입력받은 과일들은 {fruits}입니다.')"
      ],
      "metadata": {
        "colab": {
          "base_uri": "https://localhost:8080/"
        },
        "id": "7PTI6Mmagj13",
        "outputId": "3f6afba0-ddb1-4965-be5d-4a6939ba6249"
      },
      "execution_count": 31,
      "outputs": [
        {
          "output_type": "stream",
          "name": "stdout",
          "text": [
            "몇 개의 과일을 보관할까요? >>> 3\n",
            "1번째 과일을 입력하세요 >>> apple\n",
            "2번째 과일을 입력하세요 >>> banana\n",
            "3번째 과일을 입력하세요 >>> cherry\n",
            "입력받은 과일들은 ['apple', 'banana', 'cherry']입니다.\n"
          ]
        }
      ]
    },
    {
      "cell_type": "code",
      "source": [
        "# 4\n",
        "exam = [99,78,100,91,81,85,84,54,100,71,50]\n",
        "\n",
        "exam2 = []\n",
        "for i in exam:\n",
        "  if i >= 95:\n",
        "    exam2.append(100)\n",
        "  else:\n",
        "    exam2.append(i+5)\n",
        "\n",
        "print(exam2)"
      ],
      "metadata": {
        "colab": {
          "base_uri": "https://localhost:8080/"
        },
        "id": "XprrPRJbiY_4",
        "outputId": "2ee1e387-ab0b-43aa-c31d-ee24612541b3"
      },
      "execution_count": 33,
      "outputs": [
        {
          "output_type": "stream",
          "name": "stdout",
          "text": [
            "[100, 83, 100, 96, 86, 90, 89, 59, 100, 76, 55]\n"
          ]
        }
      ]
    },
    {
      "cell_type": "code",
      "source": [
        "# break\n",
        "\n",
        "# while문이나 for문에서 반복을 강제로 종료시킬때 사용\n",
        "\n",
        "n = 1\n",
        "while n <= 10:\n",
        "  print(n)\n",
        "  n += 1"
      ],
      "metadata": {
        "colab": {
          "base_uri": "https://localhost:8080/"
        },
        "id": "qxSXjYu5jc4k",
        "outputId": "2badc0be-626d-40ba-de2b-aa132aff1f8c"
      },
      "execution_count": 35,
      "outputs": [
        {
          "output_type": "stream",
          "name": "stdout",
          "text": [
            "1\n",
            "2\n",
            "3\n",
            "4\n",
            "5\n",
            "6\n",
            "7\n",
            "8\n",
            "9\n",
            "10\n"
          ]
        }
      ]
    },
    {
      "cell_type": "code",
      "source": [
        "n = 1\n",
        "while True:\n",
        "  print(n)\n",
        "  if n == 10:\n",
        "    break\n",
        "  n += 1"
      ],
      "metadata": {
        "colab": {
          "base_uri": "https://localhost:8080/"
        },
        "id": "vtIc9U8gj8O5",
        "outputId": "dd926632-7499-421d-f177-250d428bbad9"
      },
      "execution_count": 38,
      "outputs": [
        {
          "output_type": "stream",
          "name": "stdout",
          "text": [
            "1\n",
            "2\n",
            "3\n",
            "4\n",
            "5\n",
            "6\n",
            "7\n",
            "8\n",
            "9\n",
            "10\n"
          ]
        }
      ]
    },
    {
      "cell_type": "code",
      "source": [
        "# continue\n",
        "\n",
        "# 반복 도중에 continue를 만나면 더이상 아래로 내려가지 않고\n",
        "# 다시 반복문으로 진입한다.\n",
        "\n",
        "total = 0\n",
        "for a in range(1,101):\n",
        "  if a % 3 ==0 :  # 3의 배수찾기\n",
        "    continue      # 3의 배수를 제외한 합\n",
        "  total += a\n",
        "print(total)"
      ],
      "metadata": {
        "colab": {
          "base_uri": "https://localhost:8080/"
        },
        "id": "xSy3-BZ5kcc0",
        "outputId": "fd13cd8c-0154-45f8-f635-00b9bc7e1542"
      },
      "execution_count": 40,
      "outputs": [
        {
          "output_type": "stream",
          "name": "stdout",
          "text": [
            "3367\n"
          ]
        }
      ]
    },
    {
      "cell_type": "code",
      "source": [
        "# page 141\n",
        "# 1\n",
        "\n",
        "cash = 10000\n",
        "\n",
        "while True:\n",
        "  print(f'현재 {cash}원이 있습니다.')\n",
        "  if cash == 0:\n",
        "    break\n",
        "  pay = int(input('사용할 금액입력 >>> '))\n",
        "  if pay <= 0:\n",
        "    print('0 이하의 금액은 사용할 수 없습니다.')\n",
        "  elif pay > cash:\n",
        "    print(f'{pay - cash}원이 부족합니다.')\n",
        "  else:\n",
        "    cash -= pay   # cash = cash - pay"
      ],
      "metadata": {
        "colab": {
          "base_uri": "https://localhost:8080/"
        },
        "id": "yECwuE1ulVKM",
        "outputId": "a52d4620-c8bf-4249-ecbf-520aa7014a24"
      },
      "execution_count": 42,
      "outputs": [
        {
          "output_type": "stream",
          "name": "stdout",
          "text": [
            "현재 10000원이 있습니다.\n",
            "사용할 금액입력 >>> 5000\n",
            "현재 5000원이 있습니다.\n",
            "사용할 금액입력 >>> -5000\n",
            "0 이하의 금액은 사용할 수 없습니다.\n",
            "현재 5000원이 있습니다.\n",
            "사용할 금액입력 >>> 6000\n",
            "1000원이 부족합니다.\n",
            "현재 5000원이 있습니다.\n",
            "사용할 금액입력 >>> 5000\n",
            "현재 0원이 있습니다.\n"
          ]
        }
      ]
    },
    {
      "cell_type": "code",
      "source": [
        "# 2\n",
        "while True:\n",
        "  score = int(input('이번 영화의 평점을 입력하세요 >>> '))\n",
        "\n",
        "  if score >= 1 and score <= 5:\n",
        "    print(f'평점 : {score *\"★\"}')\n",
        "    break\n",
        "  else:\n",
        "    print('평점은 1~5 사이만 입력할 수 있습니다.')\n"
      ],
      "metadata": {
        "colab": {
          "base_uri": "https://localhost:8080/"
        },
        "id": "YGaOFTvjnI6U",
        "outputId": "50951a06-7f76-41be-b9e5-f5682bff14dd"
      },
      "execution_count": 47,
      "outputs": [
        {
          "output_type": "stream",
          "name": "stdout",
          "text": [
            "이번 영화의 평점을 입력하세요 >>> 10\n",
            "평점은 1~5 사이만 입력할 수 있습니다.\n",
            "이번 영화의 평점을 입력하세요 >>> -2\n",
            "평점은 1~5 사이만 입력할 수 있습니다.\n",
            "이번 영화의 평점을 입력하세요 >>> 5\n",
            "평점 : ★★★★★\n"
          ]
        }
      ]
    },
    {
      "cell_type": "code",
      "source": [
        "# 3\n",
        "\n",
        "password = 'qwerty'\n",
        "tryno = 0\n",
        "while True:\n",
        "  if tryno == 5:\n",
        "    print('비밀번호 입력 횟수를 초과했습니다.')\n",
        "    break\n",
        "  inpass = input('비밀번호를 입력하세요 >>> ')\n",
        "  if password == inpass:\n",
        "    print('비밀번호를 맞혔습니다.')\n",
        "    break\n",
        "  tryno += 1"
      ],
      "metadata": {
        "colab": {
          "base_uri": "https://localhost:8080/"
        },
        "id": "54SDEH4_oA3o",
        "outputId": "75646ccd-14c2-4b79-ee35-aba53e9fab46"
      },
      "execution_count": 51,
      "outputs": [
        {
          "output_type": "stream",
          "name": "stdout",
          "text": [
            "비밀번호를 입력하세요 >>> adfg\n",
            "비밀번호를 입력하세요 >>> qerty\n",
            "비밀번호를 입력하세요 >>> qwerty\n",
            "비밀번호를 맞혔습니다.\n"
          ]
        }
      ]
    },
    {
      "cell_type": "code",
      "source": [
        "# 4\n",
        "\n",
        "\n",
        "# 구구단 전체 출력하기\n",
        "\n",
        "for i in range(2,10):\n",
        "  for j in range(1,10):\n",
        "    print(f'{i} X {j} = {i*j}')"
      ],
      "metadata": {
        "colab": {
          "base_uri": "https://localhost:8080/"
        },
        "id": "YFJ442D5qWRV",
        "outputId": "387a05a8-a7dc-4ad9-ba1a-337fc1609054"
      },
      "execution_count": 55,
      "outputs": [
        {
          "output_type": "stream",
          "name": "stdout",
          "text": [
            "2 X 1 = 2\n",
            "2 X 2 = 4\n",
            "2 X 3 = 6\n",
            "2 X 4 = 8\n",
            "2 X 5 = 10\n",
            "2 X 6 = 12\n",
            "2 X 7 = 14\n",
            "2 X 8 = 16\n",
            "2 X 9 = 18\n",
            "3 X 1 = 3\n",
            "3 X 2 = 6\n",
            "3 X 3 = 9\n",
            "3 X 4 = 12\n",
            "3 X 5 = 15\n",
            "3 X 6 = 18\n",
            "3 X 7 = 21\n",
            "3 X 8 = 24\n",
            "3 X 9 = 27\n",
            "4 X 1 = 4\n",
            "4 X 2 = 8\n",
            "4 X 3 = 12\n",
            "4 X 4 = 16\n",
            "4 X 5 = 20\n",
            "4 X 6 = 24\n",
            "4 X 7 = 28\n",
            "4 X 8 = 32\n",
            "4 X 9 = 36\n",
            "5 X 1 = 5\n",
            "5 X 2 = 10\n",
            "5 X 3 = 15\n",
            "5 X 4 = 20\n",
            "5 X 5 = 25\n",
            "5 X 6 = 30\n",
            "5 X 7 = 35\n",
            "5 X 8 = 40\n",
            "5 X 9 = 45\n",
            "6 X 1 = 6\n",
            "6 X 2 = 12\n",
            "6 X 3 = 18\n",
            "6 X 4 = 24\n",
            "6 X 5 = 30\n",
            "6 X 6 = 36\n",
            "6 X 7 = 42\n",
            "6 X 8 = 48\n",
            "6 X 9 = 54\n",
            "7 X 1 = 7\n",
            "7 X 2 = 14\n",
            "7 X 3 = 21\n",
            "7 X 4 = 28\n",
            "7 X 5 = 35\n",
            "7 X 6 = 42\n",
            "7 X 7 = 49\n",
            "7 X 8 = 56\n",
            "7 X 9 = 63\n",
            "8 X 1 = 8\n",
            "8 X 2 = 16\n",
            "8 X 3 = 24\n",
            "8 X 4 = 32\n",
            "8 X 5 = 40\n",
            "8 X 6 = 48\n",
            "8 X 7 = 56\n",
            "8 X 8 = 64\n",
            "8 X 9 = 72\n",
            "9 X 1 = 9\n",
            "9 X 2 = 18\n",
            "9 X 3 = 27\n",
            "9 X 4 = 36\n",
            "9 X 5 = 45\n",
            "9 X 6 = 54\n",
            "9 X 7 = 63\n",
            "9 X 8 = 72\n",
            "9 X 9 = 81\n"
          ]
        }
      ]
    },
    {
      "cell_type": "code",
      "source": [
        "# 구구단 홀수단 전체 출력하기\n",
        "\n",
        "for i in range(2,10):\n",
        "  if i % 2 == 0:\n",
        "    continue\n",
        "  for j in range(1,10):\n",
        "    print(f'{i} X {j} = {i*j}')"
      ],
      "metadata": {
        "colab": {
          "base_uri": "https://localhost:8080/"
        },
        "id": "KWQXqNLXrTcm",
        "outputId": "d6295bff-5149-4c00-85b3-f84d5ed61fcd"
      },
      "execution_count": 56,
      "outputs": [
        {
          "output_type": "stream",
          "name": "stdout",
          "text": [
            "3 X 1 = 3\n",
            "3 X 2 = 6\n",
            "3 X 3 = 9\n",
            "3 X 4 = 12\n",
            "3 X 5 = 15\n",
            "3 X 6 = 18\n",
            "3 X 7 = 21\n",
            "3 X 8 = 24\n",
            "3 X 9 = 27\n",
            "5 X 1 = 5\n",
            "5 X 2 = 10\n",
            "5 X 3 = 15\n",
            "5 X 4 = 20\n",
            "5 X 5 = 25\n",
            "5 X 6 = 30\n",
            "5 X 7 = 35\n",
            "5 X 8 = 40\n",
            "5 X 9 = 45\n",
            "7 X 1 = 7\n",
            "7 X 2 = 14\n",
            "7 X 3 = 21\n",
            "7 X 4 = 28\n",
            "7 X 5 = 35\n",
            "7 X 6 = 42\n",
            "7 X 7 = 49\n",
            "7 X 8 = 56\n",
            "7 X 9 = 63\n",
            "9 X 1 = 9\n",
            "9 X 2 = 18\n",
            "9 X 3 = 27\n",
            "9 X 4 = 36\n",
            "9 X 5 = 45\n",
            "9 X 6 = 54\n",
            "9 X 7 = 63\n",
            "9 X 8 = 72\n",
            "9 X 9 = 81\n"
          ]
        }
      ]
    },
    {
      "cell_type": "code",
      "source": [
        "# 각 단 까지만 출력\n",
        "\n",
        "for i in range(2,10):\n",
        "  if i % 2 == 0:\n",
        "    continue\n",
        "  for j in range(1,10):\n",
        "    if i < j:\n",
        "      break\n",
        "    print(f'{i}X{j} ={i*j}')\n",
        "  print()"
      ],
      "metadata": {
        "colab": {
          "base_uri": "https://localhost:8080/"
        },
        "id": "wJvEAJkcr1vm",
        "outputId": "78a6f4ef-e61d-43d7-98bb-f164589def82"
      },
      "execution_count": 59,
      "outputs": [
        {
          "output_type": "stream",
          "name": "stdout",
          "text": [
            "3X1 =3\n",
            "3X2 =6\n",
            "3X3 =9\n",
            "\n",
            "5X1 =5\n",
            "5X2 =10\n",
            "5X3 =15\n",
            "5X4 =20\n",
            "5X5 =25\n",
            "\n",
            "7X1 =7\n",
            "7X2 =14\n",
            "7X3 =21\n",
            "7X4 =28\n",
            "7X5 =35\n",
            "7X6 =42\n",
            "7X7 =49\n",
            "\n",
            "9X1 =9\n",
            "9X2 =18\n",
            "9X3 =27\n",
            "9X4 =36\n",
            "9X5 =45\n",
            "9X6 =54\n",
            "9X7 =63\n",
            "9X8 =72\n",
            "9X9 =81\n",
            "\n"
          ]
        }
      ]
    }
  ]
}