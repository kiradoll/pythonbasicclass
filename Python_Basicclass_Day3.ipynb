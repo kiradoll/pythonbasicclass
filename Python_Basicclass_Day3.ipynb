{
  "nbformat": 4,
  "nbformat_minor": 0,
  "metadata": {
    "colab": {
      "name": "Python Basicclass Day3.ipynb",
      "provenance": [],
      "authorship_tag": "ABX9TyP1XunRpcWjZ1954qE51Yk3",
      "include_colab_link": true
    },
    "kernelspec": {
      "name": "python3",
      "display_name": "Python 3"
    },
    "language_info": {
      "name": "python"
    }
  },
  "cells": [
    {
      "cell_type": "markdown",
      "metadata": {
        "id": "view-in-github",
        "colab_type": "text"
      },
      "source": [
        "<a href=\"https://colab.research.google.com/github/kiradoll/pythonbasicclass/blob/main/Python_Basicclass_Day3.ipynb\" target=\"_parent\"><img src=\"https://colab.research.google.com/assets/colab-badge.svg\" alt=\"Open In Colab\"/></a>"
      ]
    },
    {
      "cell_type": "code",
      "source": [
        "#  list tuple dict set\n",
        "\n",
        "# list  []  indexing/slicing  mutable(del,ins)  [1]\n",
        "# tuple ()  indexing/slicing  immutable         (1,)\n",
        "# dict  {}   X (unordered)    mutable(del,ins)  {'key':'value'}\n",
        "# set   {}   X (unordered)    mutable(del,ins)  {1,2,3}"
      ],
      "metadata": {
        "id": "Bdl2T0HBjPjr"
      },
      "execution_count": null,
      "outputs": []
    },
    {
      "cell_type": "code",
      "source": [
        "# 1\n",
        "no = '31025'\n",
        "a = no[0]  #indexing\n",
        "b = no[1:3]  #slicing\n",
        "c = no[3:]  #slicing\n",
        "\n",
        "print(a,'학년',b,'반',c,'번')\n",
        "print(f'{a} 학년 {b} 반 {c} 번')   #f 스트링"
      ],
      "metadata": {
        "colab": {
          "base_uri": "https://localhost:8080/"
        },
        "id": "1yO3HtlfjPoD",
        "outputId": "784931d5-538f-423a-8fd6-bac411827e66"
      },
      "execution_count": 7,
      "outputs": [
        {
          "output_type": "stream",
          "name": "stdout",
          "text": [
            "3 학년 10 반 25 번\n",
            "3 학년 10 반 25 번\n"
          ]
        }
      ]
    },
    {
      "cell_type": "code",
      "source": [
        "#2\n",
        "no = '서울2가1234'\n",
        "no4 = no[-4:]\n",
        "print(no,'의 차량번호 4자리는',no4,'입니다')\n",
        "print(f'{no} 의 차량번호 4자리는 {no4} 입니다')"
      ],
      "metadata": {
        "colab": {
          "base_uri": "https://localhost:8080/"
        },
        "id": "bmgxUqXzjPry",
        "outputId": "f4d9a89f-e8f3-41af-b287-d4d9f05ab6a7"
      },
      "execution_count": 8,
      "outputs": [
        {
          "output_type": "stream",
          "name": "stdout",
          "text": [
            "서울2가1234 의 차량번호 4자리는 1234 입니다\n",
            "서울2가1234 의 차량번호 4자리는 1234 입니다\n"
          ]
        }
      ]
    },
    {
      "cell_type": "code",
      "source": [
        "#3\n",
        "s = 'maple'  #가운데 p출력\n",
        "center = s[len(s) // 2]   # // 나머지를 버리고 몫만 취한다\n",
        "                       # % 몫은 버리고 나머지만 취한다 (홀/짝/배)  \n",
        "print(s,'의 가운데 글자는',center,'입니다.')\n",
        "print(f'{s} 의 가운데 글자는 {center} 입니다.')"
      ],
      "metadata": {
        "colab": {
          "base_uri": "https://localhost:8080/"
        },
        "id": "Ng4HkVIojPuz",
        "outputId": "40714129-14bd-4472-f579-53fc897b7aa2"
      },
      "execution_count": 5,
      "outputs": [
        {
          "output_type": "stream",
          "name": "stdout",
          "text": [
            "maple 의 가운데 글자는 p 입니다.\n",
            "maple 의 가운데 글자는 p 입니다.\n"
          ]
        }
      ]
    },
    {
      "cell_type": "code",
      "source": [
        "#4\n",
        "li1 = [10,20,30,40,50,60,70,80,90,100]\n",
        "\n",
        "print('3번째 요소부터 7번째 요소 = ',li1[2:7])\n",
        "print('3번째 요소부터 7번째 요소 중 2번째 요소 = ',li1[2:7][1])"
      ],
      "metadata": {
        "colab": {
          "base_uri": "https://localhost:8080/"
        },
        "id": "Jg8UShfvjPxt",
        "outputId": "20e4b0cf-9eea-4b3a-9864-170cba3e8d9f"
      },
      "execution_count": 4,
      "outputs": [
        {
          "output_type": "stream",
          "name": "stdout",
          "text": [
            "3번째 요소부터 7번째 요소 =  [30, 40, 50, 60, 70]\n",
            "3번째 요소부터 7번째 요소 중 2번째 요소 =  40\n"
          ]
        }
      ]
    },
    {
      "cell_type": "code",
      "source": [
        "#5\n",
        "dict = {'금요일':'탕수육',\n",
        "        '토요일':'유산슬',\n",
        "        '일요일':'팔보채'}\n",
        "\n",
        "print('금요일 :',dict['금요일'])\n",
        "print('토요일 :',dict['토요일'])\n",
        "print('일요일 :',dict['일요일'])"
      ],
      "metadata": {
        "colab": {
          "base_uri": "https://localhost:8080/"
        },
        "id": "wBsIfVgcjOjl",
        "outputId": "4258f92b-bb16-49b7-d30f-d285d5e3869e"
      },
      "execution_count": 3,
      "outputs": [
        {
          "output_type": "stream",
          "name": "stdout",
          "text": [
            "금요일 : 탕수육\n",
            "토요일 : 유산슬\n",
            "일요일 : 팔보채\n"
          ]
        }
      ]
    },
    {
      "cell_type": "code",
      "source": [
        "# 따옴표의 기능을 무력화 시키고 글자로 표현\n",
        "# \\n 줄바꿈  line feed\n",
        "# \\n 탭      tab\n",
        "\n",
        "print('Hello \\'World\\'')\n",
        "print(\"Hello 'World'\")\n",
        "\n",
        "print(\"Hello \\\"World\\\"\")\n",
        "print('Hello \"World\"')\n",
        "\n",
        "print('*\\n**\\n***')\n",
        "\n",
        "print('Hello\\nWorld')\n",
        "\n",
        "print('이름\\t연락처')\n",
        "print('제시카\\t01-123-4567')\n",
        "print('마틴\\t010-6789-7890')"
      ],
      "metadata": {
        "colab": {
          "base_uri": "https://localhost:8080/"
        },
        "id": "6O8egVyKjro5",
        "outputId": "0338ff3d-6e28-44ef-bf24-6c6c1fde2a0a"
      },
      "execution_count": 17,
      "outputs": [
        {
          "output_type": "stream",
          "name": "stdout",
          "text": [
            "Hello 'World'\n",
            "Hello 'World'\n",
            "Hello \"World\"\n",
            "Hello \"World\"\n",
            "*\n",
            "**\n",
            "***\n",
            "Hello\n",
            "World\n",
            "이름\t연락처\n",
            "제시카\t01-123-4567\n",
            "마틴\t010-6789-7890\n"
          ]
        }
      ]
    },
    {
      "cell_type": "code",
      "source": [
        "# print() 함수\n",
        "\n",
        "print('재미있는','파이썬')\n",
        "print('재미있는','파이썬', sep=',')   # 구분자\n",
        "print('재미있는','파이썬', sep='/')\n",
        "print('재미있는','파이썬', sep=':')"
      ],
      "metadata": {
        "colab": {
          "base_uri": "https://localhost:8080/"
        },
        "id": "BtOylTEklXai",
        "outputId": "29c8109c-bf21-4b81-d15c-2ca1282eff3d"
      },
      "execution_count": 21,
      "outputs": [
        {
          "output_type": "stream",
          "name": "stdout",
          "text": [
            "재미있는 파이썬\n",
            "재미있는,파이썬\n",
            "재미있는/파이썬\n",
            "재미있는:파이썬\n"
          ]
        }
      ]
    },
    {
      "cell_type": "code",
      "source": [
        "print('영화 타이타닉')\n",
        "print('평점', end=' ')\n",
        "print('5점')"
      ],
      "metadata": {
        "colab": {
          "base_uri": "https://localhost:8080/"
        },
        "id": "gUk94qqYmPy5",
        "outputId": "455e4ea1-7a6c-4a68-ffb4-28a885ed8059"
      },
      "execution_count": 28,
      "outputs": [
        {
          "output_type": "stream",
          "name": "stdout",
          "text": [
            "영화 타이타닉\n",
            "평점 5점\n"
          ]
        }
      ]
    },
    {
      "cell_type": "code",
      "source": [
        "# % 연산자  (비추)\n",
        "\n",
        "print('%d' % 11)    # %d 정수 10진수 자리표시자  decima\n",
        "print('%o' % 10)    # %d 정수 8진수 자리표시자  octal\n",
        "print('%x' % 10)    # %d 정수 16진수 자리표시자  hexa\n",
        "print('%f' %3.14)   # %f 실수 자리표시자\n",
        "\n",
        "print('%s' % 'python')\n",
        "print('%s' %3.14)   # %f 실수 자리표시자"
      ],
      "metadata": {
        "colab": {
          "base_uri": "https://localhost:8080/"
        },
        "id": "4nIaq8jloej8",
        "outputId": "7e25c659-070e-404c-d733-e5e2e3ce2305"
      },
      "execution_count": 44,
      "outputs": [
        {
          "output_type": "stream",
          "name": "stdout",
          "text": [
            "11\n",
            "12\n",
            "a\n",
            "3.140000\n",
            "python\n",
            "3.14\n"
          ]
        }
      ]
    },
    {
      "cell_type": "code",
      "source": [
        "print('%d' % 1)\n",
        "print('%5d' % 1) #다섯칸을 확보하고 오른쪽에 출력\n",
        "print('%5d' % 11) #다섯칸을 확보하고 오른쪽부터 출력"
      ],
      "metadata": {
        "colab": {
          "base_uri": "https://localhost:8080/"
        },
        "id": "MJMUEGoltXxP",
        "outputId": "4bc00284-79ed-412d-d27e-a1e664297fa6"
      },
      "execution_count": 48,
      "outputs": [
        {
          "output_type": "stream",
          "name": "stdout",
          "text": [
            "1\n",
            "    1\n",
            "   11\n"
          ]
        }
      ]
    },
    {
      "cell_type": "code",
      "source": [
        "print('%-5d' % 1) #다섯칸을 확보하고 왼쪽에 출력\n",
        "print('%-5d' % 11) #다섯칸을 확보하고 왼쪽부터 출력"
      ],
      "metadata": {
        "colab": {
          "base_uri": "https://localhost:8080/"
        },
        "id": "sH5Enyqht0VH",
        "outputId": "16717b0a-97fd-4e93-dea9-22ab6451af95"
      },
      "execution_count": 49,
      "outputs": [
        {
          "output_type": "stream",
          "name": "stdout",
          "text": [
            "1    \n",
            "11   \n"
          ]
        }
      ]
    },
    {
      "cell_type": "code",
      "source": [
        "print('%5.2f' % 3.14) #다섯칸을 확보하고 오른쪽에 실수 출력\n",
        "print('%5.1f' % 3.14) #다섯칸을 확보하고 오른쪽부터 실수 출력"
      ],
      "metadata": {
        "colab": {
          "base_uri": "https://localhost:8080/"
        },
        "id": "Df31Z3EpuA9Q",
        "outputId": "3a6b1872-51e2-4526-9919-e0734c614e33"
      },
      "execution_count": 51,
      "outputs": [
        {
          "output_type": "stream",
          "name": "stdout",
          "text": [
            " 3.14\n",
            "  3.1\n"
          ]
        }
      ]
    },
    {
      "cell_type": "code",
      "source": [
        "print('%-5.2f' % 3.14) #다섯칸을 확보하고 왼쪽에 실수 출력\n",
        "print('%-5.1f' % 3.14) #다섯칸을 확보하고 왼쪽부터 실수 출력"
      ],
      "metadata": {
        "colab": {
          "base_uri": "https://localhost:8080/"
        },
        "id": "baN8XI0bulxJ",
        "outputId": "515cbe22-c18c-4ffb-f8a1-31d51c951dcc"
      },
      "execution_count": 56,
      "outputs": [
        {
          "output_type": "stream",
          "name": "stdout",
          "text": [
            "3.14 \n",
            "3.1  \n"
          ]
        }
      ]
    },
    {
      "cell_type": "code",
      "source": [
        "print('%.2f' % 3.14) #소수 2자리까지 실수 출력\n",
        "print('%.1f' % 3.14) #소수 1자리까지 실수 출력"
      ],
      "metadata": {
        "colab": {
          "base_uri": "https://localhost:8080/"
        },
        "id": "YmC7o8Pzu8JR",
        "outputId": "354111ad-1e1f-4658-a6d5-6ac5d30dabbe"
      },
      "execution_count": 57,
      "outputs": [
        {
          "output_type": "stream",
          "name": "stdout",
          "text": [
            "3.14\n",
            "3.1\n"
          ]
        }
      ]
    },
    {
      "cell_type": "code",
      "source": [
        "print('%s'% 3.14) #소수 1자리까지 실수 출력"
      ],
      "metadata": {
        "colab": {
          "base_uri": "https://localhost:8080/"
        },
        "id": "Rx5Ye5N7vAuy",
        "outputId": "620be99c-6a40-46ca-d1d3-e0d13c8e4a7c"
      },
      "execution_count": 58,
      "outputs": [
        {
          "output_type": "stream",
          "name": "stdout",
          "text": [
            "3.14\n"
          ]
        }
      ]
    },
    {
      "cell_type": "code",
      "source": [
        "# 기본 출력\n",
        "a='학생'\n",
        "print(a,'입니다.')\n",
        "\n",
        "# f string 출력 방법\n",
        "print(f'{a} 입니다.')\n",
        "\n",
        "# % 연산자 출력 방법\n",
        "print('%s 입니다.' % a)\n",
        "\n",
        "# format() 출력 방법\n",
        "print('{} 입니다.'.format(a))"
      ],
      "metadata": {
        "colab": {
          "base_uri": "https://localhost:8080/"
        },
        "id": "EsyfuGRivG6z",
        "outputId": "7ffa542d-244c-47c0-a780-a5740087b6e4"
      },
      "execution_count": 64,
      "outputs": [
        {
          "output_type": "stream",
          "name": "stdout",
          "text": [
            "학생 입니다.\n",
            "학생 입니다.\n",
            "학생 입니다.\n",
            "학생 입니다.\n"
          ]
        }
      ]
    },
    {
      "cell_type": "code",
      "source": [
        "# format() 매서드\n",
        "print('My name is {name}'.format(name='James'))"
      ],
      "metadata": {
        "colab": {
          "base_uri": "https://localhost:8080/"
        },
        "id": "6rivAmCnwcqS",
        "outputId": "3c62d363-9bf8-4672-98d6-e4cc25d778ce"
      },
      "execution_count": 67,
      "outputs": [
        {
          "output_type": "stream",
          "name": "stdout",
          "text": [
            "My name is James\n"
          ]
        }
      ]
    },
    {
      "cell_type": "code",
      "source": [
        "print('My name is {}. I\\'m {} years old.'.format('James',20))"
      ],
      "metadata": {
        "colab": {
          "base_uri": "https://localhost:8080/"
        },
        "id": "LUc-rHUVxFmx",
        "outputId": "ba010d31-aa99-4bb1-cbb7-45f33e8ef795"
      },
      "execution_count": 68,
      "outputs": [
        {
          "output_type": "stream",
          "name": "stdout",
          "text": [
            "My name is James. I'm 20 years old.\n"
          ]
        }
      ]
    },
    {
      "cell_type": "code",
      "source": [
        "print('My name is {1}. I\\'m {0} years old.'.format('James',20))"
      ],
      "metadata": {
        "colab": {
          "base_uri": "https://localhost:8080/"
        },
        "id": "6ipVmWeXxXUP",
        "outputId": "54e4ebca-eb25-4242-a20c-f20e658933aa"
      },
      "execution_count": 71,
      "outputs": [
        {
          "output_type": "stream",
          "name": "stdout",
          "text": [
            "My name is 20. I'm James years old.\n"
          ]
        }
      ]
    },
    {
      "cell_type": "code",
      "source": [
        "print('My name is {name}.I\\'m {age} years old.'.format(name='James',age=20))"
      ],
      "metadata": {
        "colab": {
          "base_uri": "https://localhost:8080/"
        },
        "id": "NU7k1RZ3xi_6",
        "outputId": "0bf5d231-5f77-46e2-f018-0c2c1b616e5d"
      },
      "execution_count": 75,
      "outputs": [
        {
          "output_type": "stream",
          "name": "stdout",
          "text": [
            "My name is James.I'm 20 years old.\n"
          ]
        }
      ]
    },
    {
      "cell_type": "code",
      "source": [
        "# f-strings\n",
        "\n",
        "who = 'you'\n",
        "how = 'happy'\n",
        "\n",
        "print(f'{who} make me {how}')"
      ],
      "metadata": {
        "colab": {
          "base_uri": "https://localhost:8080/"
        },
        "id": "6BHsRMWFyEAO",
        "outputId": "c028ac51-e03b-434f-9957-8646b5231d99"
      },
      "execution_count": 77,
      "outputs": [
        {
          "output_type": "stream",
          "name": "stdout",
          "text": [
            "you make me happy\n"
          ]
        }
      ]
    },
    {
      "cell_type": "code",
      "source": [
        "age = 25\n",
        "print(f'내년엔 {age+1}살이 됩니다.')"
      ],
      "metadata": {
        "colab": {
          "base_uri": "https://localhost:8080/"
        },
        "id": "i1P2MXccypZa",
        "outputId": "1f77ec89-2d9b-4c82-d364-0da6941bace4"
      },
      "execution_count": 78,
      "outputs": [
        {
          "output_type": "stream",
          "name": "stdout",
          "text": [
            "내년엔 26살이 됩니다.\n"
          ]
        }
      ]
    },
    {
      "cell_type": "code",
      "source": [
        "# 표준입력\n",
        "\n",
        "a = input()\n",
        "print(a)"
      ],
      "metadata": {
        "colab": {
          "base_uri": "https://localhost:8080/"
        },
        "id": "ElVLKScdzC85",
        "outputId": "b71cd4ef-7c9f-4a18-e515-7e20887ee101"
      },
      "execution_count": 79,
      "outputs": [
        {
          "output_type": "stream",
          "name": "stdout",
          "text": [
            "asd\n",
            "asd\n"
          ]
        }
      ]
    },
    {
      "cell_type": "code",
      "source": [
        "n = input('정수를 입력하세요 : ')\n",
        "print(n)"
      ],
      "metadata": {
        "colab": {
          "base_uri": "https://localhost:8080/"
        },
        "id": "lpBNpkoWzahU",
        "outputId": "56c52506-7534-4a2e-83c7-84062097028a"
      },
      "execution_count": 80,
      "outputs": [
        {
          "output_type": "stream",
          "name": "stdout",
          "text": [
            "정수를 입력하세요 : 23\n",
            "23\n"
          ]
        }
      ]
    },
    {
      "cell_type": "code",
      "source": [
        "# 기본 출력\n",
        "a='학생'\n",
        "print(a,'입니다.')\n",
        "\n",
        "# f string 출력 방법\n",
        "print(f'{a} 입니다.')\n",
        "\n",
        "# % 연산자 출력 방법\n",
        "print('%s 입니다.' % a)\n",
        "\n",
        "# format() 출력 방법\n",
        "print('{} 입니다.'.format(a))"
      ],
      "metadata": {
        "id": "LcGb4hTvz2l2"
      },
      "execution_count": null,
      "outputs": []
    },
    {
      "cell_type": "code",
      "source": [
        "name = input('이름을 입력하세요>>>')\n",
        "age = input('나이를 입력하세요>>>')\n",
        "\n",
        "print('입력된 이름은 {}입니다.'.format(name))\n",
        "print('입력된 나이는 {}입니다.'.format(age))\n",
        "\n",
        "print('입력된 이름은 %s입니다.' % name)\n",
        "print('입력된 나이는 %s입니다.' % age)\n",
        "\n",
        "print(f'입력된 이름은 {name}입니다.')\n",
        "print(f'입력된 나이는 {age}입니다.')\n",
        "\n",
        "print('입력된 이름은',name,'입니다.')\n",
        "print('입력된 나이는',age,'입니다.')"
      ],
      "metadata": {
        "colab": {
          "base_uri": "https://localhost:8080/"
        },
        "id": "UkUeWMJW0Hbq",
        "outputId": "475b2579-1d96-4358-8b38-179cc3aaad98"
      },
      "execution_count": 85,
      "outputs": [
        {
          "output_type": "stream",
          "name": "stdout",
          "text": [
            "이름을 입력하세요>>>박신애\n",
            "나이를 입력하세요>>>41\n",
            "입력된 이름은 박신애입니다.\n",
            "입력된 나이는 41입니다.\n",
            "입력된 이름은 박신애입니다.\n",
            "입력된 나이는 41입니다.\n",
            "입력된 이름은 박신애입니다.\n",
            "입력된 나이는 41입니다.\n",
            "입력된 이름은 박신애 입니다.\n",
            "입력된 나이는 41 입니다.\n"
          ]
        }
      ]
    }
  ]
}