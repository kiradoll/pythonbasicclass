{
  "nbformat": 4,
  "nbformat_minor": 0,
  "metadata": {
    "colab": {
      "name": "Python Basic Day1.ipynb",
      "provenance": [],
      "authorship_tag": "ABX9TyOKhct46xOjlOWM+z+gqTw5",
      "include_colab_link": true
    },
    "kernelspec": {
      "name": "python3",
      "display_name": "Python 3"
    },
    "language_info": {
      "name": "python"
    }
  },
  "cells": [
    {
      "cell_type": "markdown",
      "metadata": {
        "id": "view-in-github",
        "colab_type": "text"
      },
      "source": [
        "<a href=\"https://colab.research.google.com/github/kiradoll/pythonbasicclass/blob/main/Python_Basic_Day1.ipynb\" target=\"_parent\"><img src=\"https://colab.research.google.com/assets/colab-badge.svg\" alt=\"Open In Colab\"/></a>"
      ]
    },
    {
      "cell_type": "code",
      "execution_count": null,
      "metadata": {
        "colab": {
          "base_uri": "https://localhost:8080/"
        },
        "id": "BJ500RiLOuyG",
        "outputId": "91d1d0b1-2295-478b-efc0-a2f008530396"
      },
      "outputs": [
        {
          "output_type": "stream",
          "name": "stdout",
          "text": [
            "Hello\n"
          ]
        }
      ],
      "source": [
        "print('Hello')"
      ]
    },
    {
      "cell_type": "code",
      "source": [
        "# 주석 comment\n",
        "# 코드에 설명을 작성하는 부분\n",
        "# 주석은 프로그램 실행에 전혀 영향을 주지 않는다.\n",
        "# 주석은 '#' 기호를 사용하거나 '''주석''' \"\"\"주석\"\"\""
      ],
      "metadata": {
        "id": "kicCK2vuWzVd"
      },
      "execution_count": null,
      "outputs": []
    },
    {
      "cell_type": "code",
      "source": [
        "''' Docstring\n",
        "파일명: Ex02-1.py\n",
        "개요: 반지름을 전달하면 원의 넓이를 반환\n",
        "작성자:홍길동\n",
        "작성일: 2020-0825\n",
        "'''\n",
        "# math 모듈 포함\n",
        "import math\n",
        "\n",
        "def get_area(radius):\n",
        "  \"\"\"반지름을 입력받아 원의 넓이를 반환하는 get_area()함수\"\"\"\n",
        "  area = math.pi*math.pow(radius,2)\n",
        "  return area\n",
        "\n",
        "radius = 1.5\n",
        "# get_area() 함수 호출 결과를 area 변수에 저장\n",
        "area = get_area(radius)\n",
        "print(area)  # area를 출력한다.\n",
        "print(get_area.__doc__)"
      ],
      "metadata": {
        "colab": {
          "base_uri": "https://localhost:8080/"
        },
        "id": "h6JLbCR1XgwA",
        "outputId": "34d21f39-2fa9-4ef2-9309-128491d12e9f"
      },
      "execution_count": null,
      "outputs": [
        {
          "output_type": "stream",
          "name": "stdout",
          "text": [
            "7.0685834705770345\n",
            "반지름을 입력받아 원의 넓이를 반환하는 get_area()함수\n"
          ]
        }
      ]
    },
    {
      "cell_type": "code",
      "source": [
        "# 변수 variable\n",
        "\n",
        "# 어떤 데이터를 저장할때 사용되는 저장소\n",
        "\n",
        "score = 100     # score라는 이름의 변수에 100을 넣는다.\n",
        "print(score)\n",
        "\n",
        "# 변수 이름 생성 규칙\n",
        "# 1. 영문, 한글, 숫자, 밑줄로 구성된다.(한글은 변수명으로 사용하지 말자)\n",
        "# 2. 특수문자는 사용할 수 없다.\n",
        "# 3. 대문자와 소문자는 구분한다.\n",
        "# 4. 변수명의 첫문자에 숫자는 쓸 수 없다.\n",
        "# 5. 예약어(키워드)는 사용할 수 없다.\n",
        "\n",
        "# * 가급적 소문자로만 만든다\n",
        "# * 가급적 한글은 사용하지 말자.\n",
        "# * 가급적 의미있는 단어를 사용하자.\n"
      ],
      "metadata": {
        "colab": {
          "base_uri": "https://localhost:8080/"
        },
        "id": "0PgioHcAbBut",
        "outputId": "7517f009-697e-4132-ced8-d0adb1c28741"
      },
      "execution_count": null,
      "outputs": [
        {
          "output_type": "stream",
          "name": "stdout",
          "text": [
            "100\n"
          ]
        }
      ]
    },
    {
      "cell_type": "code",
      "source": [
        "address = '''우편번호 12345\n",
        "서울시 영등포구 여의도동\n",
        "서울빌딩 501호'''\n",
        "\n",
        "address2 = '우편번호 12345 \\n서울시 영등포구 여의도동 \\n서울빌딩 501호'\n",
        "\n",
        "print(address)\n",
        "print(address2)"
      ],
      "metadata": {
        "colab": {
          "base_uri": "https://localhost:8080/"
        },
        "id": "-S0P9mk_guSN",
        "outputId": "7fe0c656-387a-4414-d729-45c016bc3ae0"
      },
      "execution_count": null,
      "outputs": [
        {
          "output_type": "stream",
          "name": "stdout",
          "text": [
            "우편번호 12345\n",
            "서울시 영등포구 여의도동\n",
            "서울빌딩 501호\n",
            "우편번호 12345 \n",
            "서울시 영등포구 여의도동 \n",
            "서울빌딩 501호\n"
          ]
        }
      ]
    }
  ]
}