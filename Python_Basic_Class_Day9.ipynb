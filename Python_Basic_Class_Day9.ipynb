{
  "nbformat": 4,
  "nbformat_minor": 0,
  "metadata": {
    "colab": {
      "name": "Python Basic Class Day9.ipynb",
      "provenance": [],
      "authorship_tag": "ABX9TyMhFQSYL5YfuMLyHh23ko76",
      "include_colab_link": true
    },
    "kernelspec": {
      "name": "python3",
      "display_name": "Python 3"
    },
    "language_info": {
      "name": "python"
    }
  },
  "cells": [
    {
      "cell_type": "markdown",
      "metadata": {
        "id": "view-in-github",
        "colab_type": "text"
      },
      "source": [
        "<a href=\"https://colab.research.google.com/github/kiradoll/pythonbasicclass/blob/main/Python_Basic_Class_Day9.ipynb\" target=\"_parent\"><img src=\"https://colab.research.google.com/assets/colab-badge.svg\" alt=\"Open In Colab\"/></a>"
      ]
    },
    {
      "cell_type": "code",
      "execution_count": 19,
      "metadata": {
        "id": "QBMg8T3pJLiJ"
      },
      "outputs": [],
      "source": [
        "# 클래스  class  객체 object\n",
        "# c언어에는 클래스가 없다 <- 클래스가 필수는 아니다. "
      ]
    },
    {
      "cell_type": "code",
      "source": [
        "result1 = 0\n",
        "\n",
        "def add1(num):\n",
        "  global result1  # 전역변수\n",
        "  result1 += num\n",
        "  return result1\n",
        "\n",
        "\n",
        "result2 = 0\n",
        "\n",
        "def add2(num):\n",
        "  global result2  # 전역변수\n",
        "  result2 += num\n",
        "  return result2\n",
        "\n",
        "print(add1(3))\n",
        "print(add1(4))\n",
        "\n",
        "print(add2(3))\n",
        "print(add2(4))"
      ],
      "metadata": {
        "colab": {
          "base_uri": "https://localhost:8080/"
        },
        "id": "40N1T2XuNewe",
        "outputId": "2281de4e-4069-4d02-f31c-19a032083f9c"
      },
      "execution_count": 19,
      "outputs": [
        {
          "output_type": "stream",
          "name": "stdout",
          "text": [
            "3\n",
            "7\n",
            "3\n",
            "7\n"
          ]
        }
      ]
    },
    {
      "cell_type": "code",
      "source": [
        "print(add1(3))\n",
        "print(add2(5))"
      ],
      "metadata": {
        "colab": {
          "base_uri": "https://localhost:8080/"
        },
        "id": "Hfr7daZ_J0yU",
        "outputId": "1d590abe-6f1d-47aa-c0e7-6ff6f03abb58"
      },
      "execution_count": 8,
      "outputs": [
        {
          "output_type": "stream",
          "name": "stdout",
          "text": [
            "10\n",
            "12\n"
          ]
        }
      ]
    },
    {
      "cell_type": "code",
      "source": [
        "class Calculator:\n",
        "  def __init__(self):    # __init__ 생성자는 객체를 생성할 때 자동으로 호출\n",
        "    self.result = 0\n",
        "  def add(self, num):    # self는 호출한 그 객체를 말한다.\n",
        "    self.result += num\n",
        "    return self.result    # self는 호출한 그 객체를 말한다.\n",
        "\n",
        "cal1 = Calculator()\n",
        "cal2 = Calculator()"
      ],
      "metadata": {
        "id": "YWwveGvPKdhd"
      },
      "execution_count": 12,
      "outputs": []
    },
    {
      "cell_type": "code",
      "source": [
        "cal1.add(2)"
      ],
      "metadata": {
        "colab": {
          "base_uri": "https://localhost:8080/"
        },
        "id": "iqBXkjetLKH3",
        "outputId": "e9b97476-6c06-422b-c9ba-2638b5acd580"
      },
      "execution_count": 14,
      "outputs": [
        {
          "output_type": "stream",
          "name": "stdout",
          "text": [
            "7\n"
          ]
        }
      ]
    },
    {
      "cell_type": "code",
      "source": [
        "cal2.add(5)"
      ],
      "metadata": {
        "colab": {
          "base_uri": "https://localhost:8080/"
        },
        "id": "oeR2Z1YHMMna",
        "outputId": "43221aff-280e-4c57-d81c-238a3f374a94"
      },
      "execution_count": 18,
      "outputs": [
        {
          "output_type": "execute_result",
          "data": {
            "text/plain": [
              "13"
            ]
          },
          "metadata": {},
          "execution_count": 18
        }
      ]
    },
    {
      "cell_type": "code",
      "source": [
        "class FourCal:\n",
        "  def setdata(self, first, second):  # self = a(객체의 이름), first = 4, second = 2\n",
        "    self.first = first   # a.first = 4\n",
        "    self.second = second  # a.second = 2"
      ],
      "metadata": {
        "id": "jL6clodUNxBD"
      },
      "execution_count": 33,
      "outputs": []
    },
    {
      "cell_type": "code",
      "source": [
        "a = FourCal()\n",
        "b = FourCal()"
      ],
      "metadata": {
        "id": "YT9HgkOiOG49"
      },
      "execution_count": 35,
      "outputs": []
    },
    {
      "cell_type": "code",
      "source": [
        "a.setdata(4,2)\n",
        "b.setdata(3,5)"
      ],
      "metadata": {
        "id": "w1UCiOzqOJzm"
      },
      "execution_count": 36,
      "outputs": []
    },
    {
      "cell_type": "code",
      "source": [
        "print(a.first)\n",
        "print(a.second)\n",
        "print(b.first)\n",
        "print(b.second)"
      ],
      "metadata": {
        "colab": {
          "base_uri": "https://localhost:8080/"
        },
        "id": "_rA_jh_TPCU2",
        "outputId": "75efb1e8-3d48-4a34-ca4e-9eff59437176"
      },
      "execution_count": 37,
      "outputs": [
        {
          "output_type": "stream",
          "name": "stdout",
          "text": [
            "4\n",
            "2\n",
            "3\n",
            "5\n"
          ]
        }
      ]
    },
    {
      "cell_type": "code",
      "source": [
        "class FourCal:\n",
        "  def setdata(self, first, second):   #self = a(객체의 이름), first = 4, second = 2\n",
        "    self.first = first   # a.first = 4\n",
        "    self.second =second   # a.second = 2\n",
        "\n",
        "  def add(self):\n",
        "    result = self.first + self.second\n",
        "    return result"
      ],
      "metadata": {
        "id": "jc0Y5Kv9PrZO"
      },
      "execution_count": 41,
      "outputs": []
    },
    {
      "cell_type": "code",
      "source": [
        "a = FourCal()\n",
        "a.setdata(4,2)\n",
        "print(a.first)\n",
        "print(a.second)"
      ],
      "metadata": {
        "colab": {
          "base_uri": "https://localhost:8080/"
        },
        "id": "w79dHnYgQEOL",
        "outputId": "0e5f4924-d263-4c7a-9d16-62cb0b57197e"
      },
      "execution_count": 42,
      "outputs": [
        {
          "output_type": "stream",
          "name": "stdout",
          "text": [
            "4\n",
            "2\n"
          ]
        }
      ]
    },
    {
      "cell_type": "code",
      "source": [
        "print(a.add())"
      ],
      "metadata": {
        "colab": {
          "base_uri": "https://localhost:8080/"
        },
        "id": "r6fpAc3QQWCv",
        "outputId": "06c3ff3f-b8f4-42a6-fa03-33320be4d228"
      },
      "execution_count": 43,
      "outputs": [
        {
          "output_type": "stream",
          "name": "stdout",
          "text": [
            "6\n"
          ]
        }
      ]
    },
    {
      "cell_type": "code",
      "source": [
        "b = FourCal()\n",
        "b.setdata(3,5)\n",
        "print(b.first)\n",
        "print(b.second)\n",
        "print(b.add())"
      ],
      "metadata": {
        "colab": {
          "base_uri": "https://localhost:8080/"
        },
        "id": "Ejn8-S72Qm1h",
        "outputId": "15a30b54-e2f0-4e67-c72b-8b1b4636c736"
      },
      "execution_count": 44,
      "outputs": [
        {
          "output_type": "stream",
          "name": "stdout",
          "text": [
            "3\n",
            "5\n",
            "8\n"
          ]
        }
      ]
    },
    {
      "cell_type": "code",
      "source": [
        "class FourCal:\n",
        "  def __init__(self, first, second):\n",
        "    self.first = first\n",
        "    self.second = second\n",
        "    \n",
        "  def setdata(self, first, second):   #self = a(객체의 이름), first = 4, second = 2\n",
        "    self.first = first   # a.first = 4\n",
        "    self.second =second   # a.second = 2\n",
        "\n",
        "  def add(self):\n",
        "    result = self.first + self.second\n",
        "    return result\n",
        "\n",
        "  def mul(self):\n",
        "    result = self.first * self.second\n",
        "    return result\n",
        "\n",
        "  def sub(self):\n",
        "    result = self.first - self.second\n",
        "    return result\n",
        "    \n",
        "  def div(self):\n",
        "    result = self.first / self.second\n",
        "    return result\n"
      ],
      "metadata": {
        "id": "a5ak8KuQRKzl"
      },
      "execution_count": 51,
      "outputs": []
    },
    {
      "cell_type": "code",
      "source": [
        "c = FourCal()\n",
        "c.setdata(1,2)\n",
        "print(c.add())\n",
        "print(c.mul())\n",
        "print(c.sub())\n",
        "print(c.div())"
      ],
      "metadata": {
        "colab": {
          "base_uri": "https://localhost:8080/"
        },
        "id": "55iEZuiiRnkp",
        "outputId": "3b14c4df-cadf-438f-bf42-d3812e38e48c"
      },
      "execution_count": 47,
      "outputs": [
        {
          "output_type": "stream",
          "name": "stdout",
          "text": [
            "3\n",
            "2\n",
            "-1\n",
            "0.5\n"
          ]
        }
      ]
    },
    {
      "cell_type": "code",
      "source": [
        "# 생성자    __init__"
      ],
      "metadata": {
        "id": "uZ3NY4NxSySP"
      },
      "execution_count": null,
      "outputs": []
    },
    {
      "cell_type": "code",
      "source": [
        "d = FourCal(1,2)\n",
        "print(d.add())\n",
        "print(d.mul())\n",
        "print(d.sub())\n",
        "print(d.div())"
      ],
      "metadata": {
        "colab": {
          "base_uri": "https://localhost:8080/"
        },
        "id": "aFqqYyDcYM5N",
        "outputId": "0276418b-62e6-47af-fe55-b99809e47350"
      },
      "execution_count": 53,
      "outputs": [
        {
          "output_type": "stream",
          "name": "stdout",
          "text": [
            "3\n",
            "2\n",
            "-1\n",
            "0.5\n"
          ]
        }
      ]
    },
    {
      "cell_type": "code",
      "source": [
        "# 상속  inheritance\n",
        "# 어떤 클래스를 만들 때 다른 클래스의 기능을 물려받을 수 있는 기능\n",
        "# 보통 상속은 기존 클래스를 변경하지 않고 기능을 추가하거나\n",
        "# 기존 기능을 변경하려고 할때 사용한다."
      ],
      "metadata": {
        "id": "r4CDcGEUZWjl"
      },
      "execution_count": null,
      "outputs": []
    },
    {
      "cell_type": "code",
      "source": [
        "class MoreFourCal(FourCal):\n",
        "  def pow(self):\n",
        "    result = self.first ** self.second\n",
        "    return result\n",
        "    \n",
        "e = MoreFourCal(3,2)"
      ],
      "metadata": {
        "id": "KRtAZZv1ZhxS"
      },
      "execution_count": 60,
      "outputs": []
    },
    {
      "cell_type": "code",
      "source": [
        "print(e.add())\n",
        "print(e.pow())"
      ],
      "metadata": {
        "colab": {
          "base_uri": "https://localhost:8080/"
        },
        "id": "bbR-Qd0PabO0",
        "outputId": "fd441a35-1a4c-45b4-c6da-40555fb87496"
      },
      "execution_count": 61,
      "outputs": [
        {
          "output_type": "stream",
          "name": "stdout",
          "text": [
            "5\n",
            "9\n"
          ]
        }
      ]
    },
    {
      "cell_type": "code",
      "source": [
        "# 매서드 오버라이딩 mathod overriding\n",
        "\n",
        "a = FourCal(4,0)   # 부모 클래스 인 FourCal로 a라는 객체를 생성한다.\n",
        "a.div()  # 0으로 나누면 에러가 발생을 한다."
      ],
      "metadata": {
        "colab": {
          "base_uri": "https://localhost:8080/",
          "height": 319
        },
        "id": "DONw2d2abOKw",
        "outputId": "d0ad83f3-c980-42b7-ec49-398adf4e4c59"
      },
      "execution_count": 62,
      "outputs": [
        {
          "output_type": "error",
          "ename": "ZeroDivisionError",
          "evalue": "ignored",
          "traceback": [
            "\u001b[0;31m---------------------------------------------------------------------------\u001b[0m",
            "\u001b[0;31mZeroDivisionError\u001b[0m                         Traceback (most recent call last)",
            "\u001b[0;32m<ipython-input-62-54514999f12c>\u001b[0m in \u001b[0;36m<module>\u001b[0;34m()\u001b[0m\n\u001b[1;32m      2\u001b[0m \u001b[0;34m\u001b[0m\u001b[0m\n\u001b[1;32m      3\u001b[0m \u001b[0ma\u001b[0m \u001b[0;34m=\u001b[0m \u001b[0mFourCal\u001b[0m\u001b[0;34m(\u001b[0m\u001b[0;36m4\u001b[0m\u001b[0;34m,\u001b[0m\u001b[0;36m0\u001b[0m\u001b[0;34m)\u001b[0m   \u001b[0;31m# 부모 클래스 인 FourCal로 a라는 객체를 생성한다.\u001b[0m\u001b[0;34m\u001b[0m\u001b[0;34m\u001b[0m\u001b[0m\n\u001b[0;32m----> 4\u001b[0;31m \u001b[0ma\u001b[0m\u001b[0;34m.\u001b[0m\u001b[0mdiv\u001b[0m\u001b[0;34m(\u001b[0m\u001b[0;34m)\u001b[0m  \u001b[0;31m# 0으로 나누면 에러가 발생을 한다.\u001b[0m\u001b[0;34m\u001b[0m\u001b[0;34m\u001b[0m\u001b[0m\n\u001b[0m",
            "\u001b[0;32m<ipython-input-51-cd19847138c8>\u001b[0m in \u001b[0;36mdiv\u001b[0;34m(self)\u001b[0m\n\u001b[1;32m     21\u001b[0m \u001b[0;34m\u001b[0m\u001b[0m\n\u001b[1;32m     22\u001b[0m   \u001b[0;32mdef\u001b[0m \u001b[0mdiv\u001b[0m\u001b[0;34m(\u001b[0m\u001b[0mself\u001b[0m\u001b[0;34m)\u001b[0m\u001b[0;34m:\u001b[0m\u001b[0;34m\u001b[0m\u001b[0;34m\u001b[0m\u001b[0m\n\u001b[0;32m---> 23\u001b[0;31m     \u001b[0mresult\u001b[0m \u001b[0;34m=\u001b[0m \u001b[0mself\u001b[0m\u001b[0;34m.\u001b[0m\u001b[0mfirst\u001b[0m \u001b[0;34m/\u001b[0m \u001b[0mself\u001b[0m\u001b[0;34m.\u001b[0m\u001b[0msecond\u001b[0m\u001b[0;34m\u001b[0m\u001b[0;34m\u001b[0m\u001b[0m\n\u001b[0m\u001b[1;32m     24\u001b[0m     \u001b[0;32mreturn\u001b[0m \u001b[0mresult\u001b[0m\u001b[0;34m\u001b[0m\u001b[0;34m\u001b[0m\u001b[0m\n",
            "\u001b[0;31mZeroDivisionError\u001b[0m: division by zero"
          ]
        }
      ]
    },
    {
      "cell_type": "code",
      "source": [
        "class SafeFourCal(FourCal):\n",
        "  def div(self):\n",
        "    if self.second == 0:\n",
        "      return 0\n",
        "    else:\n",
        "      return self.first / self.second\n",
        "\n",
        "f = SafeFourCal(4,0)\n",
        "f.div()"
      ],
      "metadata": {
        "colab": {
          "base_uri": "https://localhost:8080/"
        },
        "id": "vS_KAIMab4QC",
        "outputId": "bfca0c1b-070e-4d29-ad99-7cf2c170ac41"
      },
      "execution_count": 64,
      "outputs": [
        {
          "output_type": "execute_result",
          "data": {
            "text/plain": [
              "0"
            ]
          },
          "metadata": {},
          "execution_count": 64
        }
      ]
    },
    {
      "cell_type": "code",
      "source": [
        "# 클래스 변수\n",
        "\n",
        "# 객체변수는 다른 객체들에 영향을 받지 않고 독립적으로 그 값을 유지한다는 것이 중요하다.\n",
        "# 클래스 변수는 객체 생성 없이도 사용할 수 있다.\n",
        "# 실무에서는 클래스 변수보다는 객체 변수를 사용하는 비율이 훨씬 높다.\n",
        "\n",
        "class Family:\n",
        "  lastname = \"김\"  # 클래스 변수 선언\n",
        "\n",
        "Family.lastname"
      ],
      "metadata": {
        "colab": {
          "base_uri": "https://localhost:8080/",
          "height": 35
        },
        "id": "n7WMBKJpd26N",
        "outputId": "539cc409-c663-4222-e768-15aad7c76084"
      },
      "execution_count": 65,
      "outputs": [
        {
          "output_type": "execute_result",
          "data": {
            "application/vnd.google.colaboratory.intrinsic+json": {
              "type": "string"
            },
            "text/plain": [
              "'김'"
            ]
          },
          "metadata": {},
          "execution_count": 65
        }
      ]
    },
    {
      "cell_type": "code",
      "source": [
        "a = Family()\n",
        "b = Family()\n",
        "print(a.lastname)\n",
        "print(b.lastname)"
      ],
      "metadata": {
        "colab": {
          "base_uri": "https://localhost:8080/"
        },
        "id": "r1HxouVoeQ82",
        "outputId": "fada0967-b9b1-4ce3-adc0-491dd69a7e96"
      },
      "execution_count": 66,
      "outputs": [
        {
          "output_type": "stream",
          "name": "stdout",
          "text": [
            "김\n",
            "김\n"
          ]
        }
      ]
    },
    {
      "cell_type": "code",
      "source": [
        "Family.lastname = \"박\""
      ],
      "metadata": {
        "id": "K_ZmKwiuem8b"
      },
      "execution_count": 67,
      "outputs": []
    },
    {
      "cell_type": "code",
      "source": [
        "print(a.lastname)\n",
        "print(b.lastname)"
      ],
      "metadata": {
        "colab": {
          "base_uri": "https://localhost:8080/"
        },
        "id": "lLFsuZM9eqga",
        "outputId": "7f113a53-4f4f-4ccc-8411-6df6f9a90419"
      },
      "execution_count": 68,
      "outputs": [
        {
          "output_type": "stream",
          "name": "stdout",
          "text": [
            "박\n",
            "박\n"
          ]
        }
      ]
    },
    {
      "cell_type": "code",
      "source": [
        "# p270 1번\n",
        "\n",
        "class Book:\n",
        "  def print_info(self):\n",
        "    print(f'책 제목:{self.bookn}')\n",
        "    print(f'책 저자:{self.booka}')\n",
        "  def set_info(self, bookn, booka):\n",
        "    self.bookn = bookn\n",
        "    self.booka = booka\n",
        "\n",
        "book1 = Book()\n",
        "book2 = Book()\n",
        "\n",
        "book1.set_info('파이썬','민경태')\n",
        "book2.set_info('어린왕자','생택쥐배리')\n",
        "\n",
        "book1.print_info()\n",
        "book2.print_info()"
      ],
      "metadata": {
        "colab": {
          "base_uri": "https://localhost:8080/"
        },
        "id": "11o_f1RlfuLR",
        "outputId": "e7c8cbd9-a450-4d7a-e85f-fc7482aeefb0"
      },
      "execution_count": 71,
      "outputs": [
        {
          "output_type": "stream",
          "name": "stdout",
          "text": [
            "책 제목:파이썬\n",
            "책 저자:민경태\n",
            "책 제목:어린왕자\n",
            "책 저자:생택쥐배리\n"
          ]
        }
      ]
    },
    {
      "cell_type": "code",
      "source": [
        "# 예외 처리 Exception\n",
        "\n",
        "a = int(input('제수를 입력하세요'))\n",
        "b = int(input('피제수를 입력하세요'))\n",
        "\n",
        "if b == 0:\n",
        "  print('0으로 나누는 것은 불가능합니다.')\n",
        "else:\n",
        "  print(a/b)\n",
        "  "
      ],
      "metadata": {
        "colab": {
          "base_uri": "https://localhost:8080/"
        },
        "id": "yWuxrnrql8PX",
        "outputId": "a390ae69-6f84-4f53-ef08-4bb78de54ed1"
      },
      "execution_count": 74,
      "outputs": [
        {
          "output_type": "stream",
          "name": "stdout",
          "text": [
            "제수를 입력하세요2\n",
            "피제수를 입력하세요0\n",
            "0으로 나누는 것은 불가능합니다\n"
          ]
        }
      ]
    },
    {
      "cell_type": "code",
      "source": [
        "try:\n",
        "  a = int(input('제수를 입력하세요'))\n",
        "  b = int(input('피제수를 입력하세요'))\n",
        "  print(a/b)\n",
        "except:\n",
        "  print('0으로 나누는 것은 불가능합니다.')"
      ],
      "metadata": {
        "colab": {
          "base_uri": "https://localhost:8080/"
        },
        "id": "a5regXpqnH8L",
        "outputId": "8f4895b8-887d-4dbb-c4b0-b4168e2b66a3"
      },
      "execution_count": 80,
      "outputs": [
        {
          "output_type": "stream",
          "name": "stdout",
          "text": [
            "제수를 입력하세요2\n",
            "피제수를 입력하세요0\n",
            "0으로 나누는 것은 불가능합니다.\n"
          ]
        }
      ]
    },
    {
      "cell_type": "code",
      "source": [
        "try:\n",
        "  a = int(input('제수를 입력하세요'))\n",
        "  b = int(input('피제수를 입력하세요'))\n",
        "  print(a/b)\n",
        "except ZeroDivisionError:\n",
        "  print('0으로 나누는 것은 불가능합니다.')\n",
        "except ValueError:\n",
        "  print('정수만 입력할 수 있습니다.')\n",
        "except Exception:\n",
        "  print('알 수 없는 예외가 발생했습니다.')"
      ],
      "metadata": {
        "id": "EBjwR09in1jO"
      },
      "execution_count": null,
      "outputs": []
    },
    {
      "cell_type": "code",
      "source": [
        "a = [10,20,30,40,50]\n",
        "try:\n",
        "  a[10]\n",
        "except IndexError:\n",
        "  print(\"에러발생\")"
      ],
      "metadata": {
        "colab": {
          "base_uri": "https://localhost:8080/"
        },
        "id": "yFM6qQpKooLM",
        "outputId": "c426d771-44b1-451c-bc11-57b586a484c0"
      },
      "execution_count": 83,
      "outputs": [
        {
          "output_type": "stream",
          "name": "stdout",
          "text": [
            "에러발생\n"
          ]
        }
      ]
    },
    {
      "cell_type": "code",
      "source": [
        "a = [10,20,30,40,50]\n",
        "try:\n",
        "  a[10]\n",
        "except IndexError as e:\n",
        "  print(e)"
      ],
      "metadata": {
        "colab": {
          "base_uri": "https://localhost:8080/"
        },
        "id": "hm1suR6npDuI",
        "outputId": "54070342-236f-4f24-ef74-6a50466a42e7"
      },
      "execution_count": 84,
      "outputs": [
        {
          "output_type": "stream",
          "name": "stdout",
          "text": [
            "list index out of range\n"
          ]
        }
      ]
    },
    {
      "cell_type": "code",
      "source": [
        "try:\n",
        "  a = int(input('제수를 입력하세요'))\n",
        "  b = int(input('피제수를 입력하세요'))\n",
        "  result = a / b\n",
        "except ZeroDivisionError:\n",
        "  print('0으로 나누는 것은 불가능합니다.')\n",
        "except ValueError:\n",
        "  print('정수만 입력할 수 있습니다.')\n",
        "except Exception:\n",
        "  print('알 수 없는 예외가 발생했습니다.')\n",
        "else:   # 예외가 발생하지 않았을 경우\n",
        "  print(result)\n",
        "finally:   # 예외 발생 여부와는 상관없이 항상 마지막에 접근\n",
        "  print('프로그램을 종료합니다.')"
      ],
      "metadata": {
        "colab": {
          "base_uri": "https://localhost:8080/"
        },
        "id": "ELuyXxWQpUJU",
        "outputId": "3c74c337-5dc3-471e-edd8-39ae5fcc0e9c"
      },
      "execution_count": 87,
      "outputs": [
        {
          "output_type": "stream",
          "name": "stdout",
          "text": [
            "제수를 입력하세요2\n",
            "피제수를 입력하세요1\n",
            "2.0\n",
            "프로그램을 종료합니다.\n"
          ]
        }
      ]
    },
    {
      "cell_type": "code",
      "source": [
        "# 강제 예외 발생\n",
        "\n",
        "try:\n",
        "  raise Exception('강제 예외 발생')\n",
        "except Exception as e:\n",
        "  print('발생한 예외 메세지')\n",
        "  print(e)"
      ],
      "metadata": {
        "colab": {
          "base_uri": "https://localhost:8080/"
        },
        "id": "ttVW70orqbQl",
        "outputId": "30a8faae-ecf6-4dea-d315-a877a4faf730"
      },
      "execution_count": 88,
      "outputs": [
        {
          "output_type": "stream",
          "name": "stdout",
          "text": [
            "발생한 예외 메세지\n",
            "강제 예외 발생\n"
          ]
        }
      ]
    },
    {
      "cell_type": "code",
      "source": [
        "# p306 2번\n",
        "\n",
        "import random\n",
        "\n",
        "class UpDown():\n",
        "  def __init__(self):\n",
        "    self.answer = random.randint(1,100)\n",
        "    self.count = 0\n",
        "\n",
        "  def play(self):\n",
        "    while True:\n",
        "      try:\n",
        "        no = self.challenge()   \n",
        "      except Exception as e:\n",
        "        print(e)\n",
        "      else:\n",
        "        if self.answer < no:\n",
        "          print('Down!')\n",
        "        elif self.answer > no:\n",
        "          print('Up!')\n",
        "        else:\n",
        "          print(f'{self.count}만의 정답입니다!')\n",
        "          break\n",
        "\n",
        "  def challenge(self):\n",
        "    self.count += 1\n",
        "    no = int(input('입력(1~100)>>>'))\n",
        "    if no < 1 or no > 100:\n",
        "      raise Exception('1~100 사이만 입력하세요')\n",
        "    return no\n",
        "\n",
        "\n",
        "game = UpDown()\n",
        "game.play()"
      ],
      "metadata": {
        "colab": {
          "base_uri": "https://localhost:8080/"
        },
        "id": "wdqbj-Onr5cH",
        "outputId": "50788b0d-cf87-4a14-9eb7-32b56c337d31"
      },
      "execution_count": 99,
      "outputs": [
        {
          "output_type": "stream",
          "name": "stdout",
          "text": [
            "입력(1~100)>>>50\n",
            "Down!\n",
            "입력(1~100)>>>30\n",
            "Up!\n",
            "입력(1~100)>>>40\n",
            "Up!\n",
            "입력(1~100)>>>45\n",
            "4만의 정답입니다!\n"
          ]
        }
      ]
    }
  ]
}