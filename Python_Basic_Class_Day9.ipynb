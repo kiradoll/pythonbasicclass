{
  "nbformat": 4,
  "nbformat_minor": 0,
  "metadata": {
    "colab": {
      "name": "Python Basic Class Day9.ipynb",
      "provenance": [],
      "authorship_tag": "ABX9TyNp6poKKBf1SS7xv3ix3m4v",
      "include_colab_link": true
    },
    "kernelspec": {
      "name": "python3",
      "display_name": "Python 3"
    },
    "language_info": {
      "name": "python"
    }
  },
  "cells": [
    {
      "cell_type": "markdown",
      "metadata": {
        "id": "view-in-github",
        "colab_type": "text"
      },
      "source": [
        "<a href=\"https://colab.research.google.com/github/kiradoll/pythonbasicclass/blob/main/Python_Basic_Class_Day9.ipynb\" target=\"_parent\"><img src=\"https://colab.research.google.com/assets/colab-badge.svg\" alt=\"Open In Colab\"/></a>"
      ]
    },
    {
      "cell_type": "code",
      "execution_count": 19,
      "metadata": {
        "id": "QBMg8T3pJLiJ"
      },
      "outputs": [],
      "source": [
        "# 클래스  class  객체 object\n",
        "# c언어에는 클래스가 없다 <- 클래스가 필수는 아니다. "
      ]
    },
    {
      "cell_type": "code",
      "source": [
        "result1 = 0\n",
        "\n",
        "def add1(num):\n",
        "  global result1  # 전역변수\n",
        "  result1 += num\n",
        "  return result1\n",
        "\n",
        "\n",
        "result2 = 0\n",
        "\n",
        "def add2(num):\n",
        "  global result2  # 전역변수\n",
        "  result2 += num\n",
        "  return result2\n",
        "\n",
        "print(add1(3))\n",
        "print(add1(4))\n",
        "\n",
        "print(add2(3))\n",
        "print(add2(4))"
      ],
      "metadata": {
        "colab": {
          "base_uri": "https://localhost:8080/"
        },
        "id": "40N1T2XuNewe",
        "outputId": "2281de4e-4069-4d02-f31c-19a032083f9c"
      },
      "execution_count": 19,
      "outputs": [
        {
          "output_type": "stream",
          "name": "stdout",
          "text": [
            "3\n",
            "7\n",
            "3\n",
            "7\n"
          ]
        }
      ]
    },
    {
      "cell_type": "code",
      "source": [
        "print(add1(3))\n",
        "print(add2(5))"
      ],
      "metadata": {
        "colab": {
          "base_uri": "https://localhost:8080/"
        },
        "id": "Hfr7daZ_J0yU",
        "outputId": "1d590abe-6f1d-47aa-c0e7-6ff6f03abb58"
      },
      "execution_count": 8,
      "outputs": [
        {
          "output_type": "stream",
          "name": "stdout",
          "text": [
            "10\n",
            "12\n"
          ]
        }
      ]
    },
    {
      "cell_type": "code",
      "source": [
        "class Calculator:\n",
        "  def __init__(self):    # __init__ 생성자는 객체를 생성할 때 자동으로 호출\n",
        "    self.result = 0\n",
        "  def add(self, num):    # self는 호출한 그 객체를 말한다.\n",
        "    self.result += num\n",
        "    return self.result    # self는 호출한 그 객체를 말한다.\n",
        "\n",
        "cal1 = Calculator()\n",
        "cal2 = Calculator()"
      ],
      "metadata": {
        "id": "YWwveGvPKdhd"
      },
      "execution_count": 12,
      "outputs": []
    },
    {
      "cell_type": "code",
      "source": [
        "cal1.add(2)"
      ],
      "metadata": {
        "colab": {
          "base_uri": "https://localhost:8080/"
        },
        "id": "iqBXkjetLKH3",
        "outputId": "e9b97476-6c06-422b-c9ba-2638b5acd580"
      },
      "execution_count": 14,
      "outputs": [
        {
          "output_type": "stream",
          "name": "stdout",
          "text": [
            "7\n"
          ]
        }
      ]
    },
    {
      "cell_type": "code",
      "source": [
        "cal2.add(5)"
      ],
      "metadata": {
        "colab": {
          "base_uri": "https://localhost:8080/"
        },
        "id": "oeR2Z1YHMMna",
        "outputId": "43221aff-280e-4c57-d81c-238a3f374a94"
      },
      "execution_count": 18,
      "outputs": [
        {
          "output_type": "execute_result",
          "data": {
            "text/plain": [
              "13"
            ]
          },
          "metadata": {},
          "execution_count": 18
        }
      ]
    },
    {
      "cell_type": "code",
      "source": [
        "class FourCal:\n",
        "  def setdata(self, first, second):  # self = a(객체의 이름), first = 4, second = 2\n",
        "    self.first = first   # a.first = 4\n",
        "    self.second = second  # a.second = 2"
      ],
      "metadata": {
        "id": "jL6clodUNxBD"
      },
      "execution_count": 33,
      "outputs": []
    },
    {
      "cell_type": "code",
      "source": [
        "a = FourCal()\n",
        "b = FourCal()"
      ],
      "metadata": {
        "id": "YT9HgkOiOG49"
      },
      "execution_count": 35,
      "outputs": []
    },
    {
      "cell_type": "code",
      "source": [
        "a.setdata(4,2)\n",
        "b.setdata(3,5)"
      ],
      "metadata": {
        "id": "w1UCiOzqOJzm"
      },
      "execution_count": 36,
      "outputs": []
    },
    {
      "cell_type": "code",
      "source": [
        "print(a.first)\n",
        "print(a.second)\n",
        "print(b.first)\n",
        "print(b.second)"
      ],
      "metadata": {
        "colab": {
          "base_uri": "https://localhost:8080/"
        },
        "id": "_rA_jh_TPCU2",
        "outputId": "75efb1e8-3d48-4a34-ca4e-9eff59437176"
      },
      "execution_count": 37,
      "outputs": [
        {
          "output_type": "stream",
          "name": "stdout",
          "text": [
            "4\n",
            "2\n",
            "3\n",
            "5\n"
          ]
        }
      ]
    },
    {
      "cell_type": "code",
      "source": [
        "class FourCal:\n",
        "  def setdata(self, first, second):   #self = a(객체의 이름), first = 4, second = 2\n",
        "    self.first = first   # a.first = 4\n",
        "    self.second =second   # a.second = 2\n",
        "\n",
        "  def add(self):\n",
        "    result = self.first + self.second\n",
        "    return result"
      ],
      "metadata": {
        "id": "jc0Y5Kv9PrZO"
      },
      "execution_count": 41,
      "outputs": []
    },
    {
      "cell_type": "code",
      "source": [
        "a = FourCal()\n",
        "a.setdata(4,2)\n",
        "print(a.first)\n",
        "print(a.second)"
      ],
      "metadata": {
        "colab": {
          "base_uri": "https://localhost:8080/"
        },
        "id": "w79dHnYgQEOL",
        "outputId": "0e5f4924-d263-4c7a-9d16-62cb0b57197e"
      },
      "execution_count": 42,
      "outputs": [
        {
          "output_type": "stream",
          "name": "stdout",
          "text": [
            "4\n",
            "2\n"
          ]
        }
      ]
    },
    {
      "cell_type": "code",
      "source": [
        "print(a.add())"
      ],
      "metadata": {
        "colab": {
          "base_uri": "https://localhost:8080/"
        },
        "id": "r6fpAc3QQWCv",
        "outputId": "06c3ff3f-b8f4-42a6-fa03-33320be4d228"
      },
      "execution_count": 43,
      "outputs": [
        {
          "output_type": "stream",
          "name": "stdout",
          "text": [
            "6\n"
          ]
        }
      ]
    },
    {
      "cell_type": "code",
      "source": [
        "b = FourCal()\n",
        "b.setdata(3,5)\n",
        "print(b.first)\n",
        "print(b.second)\n",
        "print(b.add())"
      ],
      "metadata": {
        "colab": {
          "base_uri": "https://localhost:8080/"
        },
        "id": "Ejn8-S72Qm1h",
        "outputId": "15a30b54-e2f0-4e67-c72b-8b1b4636c736"
      },
      "execution_count": 44,
      "outputs": [
        {
          "output_type": "stream",
          "name": "stdout",
          "text": [
            "3\n",
            "5\n",
            "8\n"
          ]
        }
      ]
    }
  ]
}