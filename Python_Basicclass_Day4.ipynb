{
  "nbformat": 4,
  "nbformat_minor": 0,
  "metadata": {
    "colab": {
      "name": "Python Basicclass Day4.ipynb",
      "provenance": [],
      "authorship_tag": "ABX9TyNsrhVpJO7pCpWpK0Ed7mMo",
      "include_colab_link": true
    },
    "kernelspec": {
      "name": "python3",
      "display_name": "Python 3"
    },
    "language_info": {
      "name": "python"
    }
  },
  "cells": [
    {
      "cell_type": "markdown",
      "metadata": {
        "id": "view-in-github",
        "colab_type": "text"
      },
      "source": [
        "<a href=\"https://colab.research.google.com/github/kiradoll/pythonbasicclass/blob/main/Python_Basicclass_Day4.ipynb\" target=\"_parent\"><img src=\"https://colab.research.google.com/assets/colab-badge.svg\" alt=\"Open In Colab\"/></a>"
      ]
    },
    {
      "cell_type": "code",
      "execution_count": null,
      "metadata": {
        "id": "DEI5fIRF6MWK"
      },
      "outputs": [],
      "source": [
        "# input() 함수를 사용할 때 주의할 점\n",
        "# input()은 모든 입력을 str(문자열)로 인식한다.\n",
        "# 따라서 "
      ]
    },
    {
      "cell_type": "code",
      "source": [
        "n = int(input('정수를 입력하세요>>>')) #형변환이 필요하다. casting\n",
        "print(type(n))"
      ],
      "metadata": {
        "colab": {
          "base_uri": "https://localhost:8080/"
        },
        "id": "5f-6_2xK6X63",
        "outputId": "9ca79868-92d8-4287-8f11-a9e18b4d0c96"
      },
      "execution_count": 1,
      "outputs": [
        {
          "output_type": "stream",
          "name": "stdout",
          "text": [
            "정수를 입력하세요>>>1\n",
            "<class 'int'>\n"
          ]
        }
      ]
    },
    {
      "cell_type": "code",
      "source": [
        "price = 5000\n",
        "n= int(input('할부 개월 입력 >>>'))\n",
        "print('매달 내는 돈은 {}입니다.'.format(price/n))"
      ],
      "metadata": {
        "colab": {
          "base_uri": "https://localhost:8080/"
        },
        "id": "PWBwJavy6erM",
        "outputId": "9f6561d3-e844-4e94-fe9d-4d9465e53662"
      },
      "execution_count": 2,
      "outputs": [
        {
          "output_type": "stream",
          "name": "stdout",
          "text": [
            "할부 개월 입력 >>>3\n",
            "매달 내는 돈은 1666.6666666666667입니다.\n"
          ]
        }
      ]
    },
    {
      "cell_type": "code",
      "source": [
        "#1\n",
        "\n",
        "n1 = float(input('첫 번째 실수를 입력하세요>>>'))\n",
        "n2 = float(input('두 번째 실수를 입력하세요>>>'))\n",
        "\n",
        "print(f'{n1}와{n2}의 합은 {n1+n2}입니다.')"
      ],
      "metadata": {
        "colab": {
          "base_uri": "https://localhost:8080/"
        },
        "id": "svEhJS7Z6iKk",
        "outputId": "62817818-098a-4cf7-d6c4-38e70ec9d306"
      },
      "execution_count": 5,
      "outputs": [
        {
          "output_type": "stream",
          "name": "stdout",
          "text": [
            "첫 번째 실수를 입력하세요>>>1.23\n",
            "두 번째 실수를 입력하세요>>>2.34\n",
            "1.23와2.34의 합은 3.57입니다.\n"
          ]
        }
      ]
    },
    {
      "cell_type": "code",
      "source": [
        "#3\n",
        "english_dict = {\n",
        "    'flower':'꽃',\n",
        "    'fly':'날다',\n",
        "    'floor':'바닥'\n",
        "}\n",
        "\n",
        "word = input('영어 단어를 입력하세요>>>')\n",
        "print(f'{word} : {english_dict[word]}')\n"
      ],
      "metadata": {
        "colab": {
          "base_uri": "https://localhost:8080/"
        },
        "id": "fKBNMC6s6p93",
        "outputId": "c5f81b21-474e-40c9-9b76-77578230786a"
      },
      "execution_count": 12,
      "outputs": [
        {
          "output_type": "stream",
          "name": "stdout",
          "text": [
            "영어 단어를 입력하세요>>>flower\n",
            "flower : 꽃\n"
          ]
        }
      ]
    },
    {
      "cell_type": "code",
      "source": [
        "# 복합 대입 연산자\n",
        "a = 1\n",
        "print(a)\n",
        "\n",
        "# a = a+1    # 자기 자신에 1을 증가\n",
        "a += 1       # 자기 자신에 1을 증가  \n",
        "print(a)\n",
        "a += 1\n",
        "print(a)\n",
        "a = a-1     # 자기 자신에 1을 감소\n",
        "print(a)    # 자기 자신에 1을 감소\n",
        "a -= 1\n",
        "print(a)"
      ],
      "metadata": {
        "colab": {
          "base_uri": "https://localhost:8080/"
        },
        "id": "kt4FexGW9rUz",
        "outputId": "7ee73e48-fe2f-4b9a-9c1c-1e568bb03f70"
      },
      "execution_count": 19,
      "outputs": [
        {
          "output_type": "stream",
          "name": "stdout",
          "text": [
            "1\n",
            "2\n",
            "3\n",
            "2\n",
            "1\n"
          ]
        }
      ]
    },
    {
      "cell_type": "code",
      "source": [
        "a, b = 10, 20\n",
        "print('a = %d, b = %d' %(a,b))\n",
        "\n",
        "a, b = b,a\n",
        "print('a = %d, b = %d' %(a,b))"
      ],
      "metadata": {
        "colab": {
          "base_uri": "https://localhost:8080/"
        },
        "id": "Nf7mXwNQ_8sx",
        "outputId": "6bf0fc2d-582d-4835-a3ae-fa0f3e57c777"
      },
      "execution_count": 21,
      "outputs": [
        {
          "output_type": "stream",
          "name": "stdout",
          "text": [
            "a = 10, b = 20\n",
            "a = 20, b = 10\n"
          ]
        }
      ]
    },
    {
      "cell_type": "code",
      "source": [
        "a = 10\n",
        "b = 20\n",
        "\n",
        "t = a\n",
        "a = b\n",
        "b = t\n",
        "print('a = %d, b = %d' %(a,b))"
      ],
      "metadata": {
        "colab": {
          "base_uri": "https://localhost:8080/"
        },
        "id": "V_u3hS_iAZoU",
        "outputId": "221006df-2597-4fe4-98d2-9bd93c29f979"
      },
      "execution_count": 22,
      "outputs": [
        {
          "output_type": "stream",
          "name": "stdout",
          "text": [
            "a = 20, b = 10\n"
          ]
        }
      ]
    },
    {
      "cell_type": "code",
      "source": [
        "1 == 1"
      ],
      "metadata": {
        "colab": {
          "base_uri": "https://localhost:8080/"
        },
        "id": "U3TwwxZwBKyI",
        "outputId": "9eca20c2-4f86-490a-8fcf-44d6e8eb12ad"
      },
      "execution_count": 23,
      "outputs": [
        {
          "output_type": "execute_result",
          "data": {
            "text/plain": [
              "True"
            ]
          },
          "metadata": {},
          "execution_count": 23
        }
      ]
    },
    {
      "cell_type": "code",
      "source": [
        "1 != 1"
      ],
      "metadata": {
        "colab": {
          "base_uri": "https://localhost:8080/"
        },
        "id": "0ApN3h-8BNMV",
        "outputId": "a105ed00-8fae-4cf7-c06c-fff91698b4d2"
      },
      "execution_count": 24,
      "outputs": [
        {
          "output_type": "execute_result",
          "data": {
            "text/plain": [
              "False"
            ]
          },
          "metadata": {},
          "execution_count": 24
        }
      ]
    },
    {
      "cell_type": "code",
      "source": [
        "# 시퀀스 연산자 : 순서가 있는 구조 시퀀스(리스트, 튜플, 문자열, range) 에서 사용된다.\n",
        "\n",
        "[1,3,5] + [2,4,6]"
      ],
      "metadata": {
        "colab": {
          "base_uri": "https://localhost:8080/"
        },
        "id": "WITheyWxBQP6",
        "outputId": "b335f15c-e5af-40c6-a2c8-e1210735ed11"
      },
      "execution_count": 26,
      "outputs": [
        {
          "output_type": "execute_result",
          "data": {
            "text/plain": [
              "[1, 3, 5, 2, 4, 6]"
            ]
          },
          "metadata": {},
          "execution_count": 26
        }
      ]
    },
    {
      "cell_type": "code",
      "source": [
        "'hello' + ' ' + 'python'"
      ],
      "metadata": {
        "colab": {
          "base_uri": "https://localhost:8080/",
          "height": 35
        },
        "id": "DimJkvErCGW7",
        "outputId": "4774acf4-4a6c-4a23-d451-370021dccf02"
      },
      "execution_count": 27,
      "outputs": [
        {
          "output_type": "execute_result",
          "data": {
            "application/vnd.google.colaboratory.intrinsic+json": {
              "type": "string"
            },
            "text/plain": [
              "'hello python'"
            ]
          },
          "metadata": {},
          "execution_count": 27
        }
      ]
    },
    {
      "cell_type": "code",
      "source": [
        "[1,3,5] * 2"
      ],
      "metadata": {
        "colab": {
          "base_uri": "https://localhost:8080/"
        },
        "id": "paXOeIy8CSNO",
        "outputId": "38b620e4-8aba-4e7d-c7c3-a94944a0deb7"
      },
      "execution_count": 28,
      "outputs": [
        {
          "output_type": "execute_result",
          "data": {
            "text/plain": [
              "[1, 3, 5, 1, 3, 5]"
            ]
          },
          "metadata": {},
          "execution_count": 28
        }
      ]
    },
    {
      "cell_type": "code",
      "source": [
        "'-' * 50"
      ],
      "metadata": {
        "colab": {
          "base_uri": "https://localhost:8080/",
          "height": 35
        },
        "id": "9fLWzw3MCcl5",
        "outputId": "47aeb4a6-85ac-4603-a52a-052c186c6620"
      },
      "execution_count": 31,
      "outputs": [
        {
          "output_type": "execute_result",
          "data": {
            "application/vnd.google.colaboratory.intrinsic+json": {
              "type": "string"
            },
            "text/plain": [
              "'--------------------------------------------------'"
            ]
          },
          "metadata": {},
          "execution_count": 31
        }
      ]
    },
    {
      "cell_type": "code",
      "source": [
        "# 멤버쉽 연산자\n",
        "5 in [1,2,3,4,5]"
      ],
      "metadata": {
        "colab": {
          "base_uri": "https://localhost:8080/"
        },
        "id": "Aldli0NTCyEM",
        "outputId": "bbd37342-4b55-4cad-f919-1b2bcabe9000"
      },
      "execution_count": 32,
      "outputs": [
        {
          "output_type": "execute_result",
          "data": {
            "text/plain": [
              "True"
            ]
          },
          "metadata": {},
          "execution_count": 32
        }
      ]
    },
    {
      "cell_type": "code",
      "source": [
        "5 not in [1,2,3,4,5]"
      ],
      "metadata": {
        "colab": {
          "base_uri": "https://localhost:8080/"
        },
        "id": "RWEXDNcbDObc",
        "outputId": "cdaefa6a-f2f8-4ac1-b77e-454423eb6aa0"
      },
      "execution_count": 33,
      "outputs": [
        {
          "output_type": "execute_result",
          "data": {
            "text/plain": [
              "False"
            ]
          },
          "metadata": {},
          "execution_count": 33
        }
      ]
    },
    {
      "cell_type": "code",
      "source": [
        "'a' in 'apple'"
      ],
      "metadata": {
        "colab": {
          "base_uri": "https://localhost:8080/"
        },
        "id": "S5RL4S9ADV9v",
        "outputId": "95015fa5-b9d3-400e-c905-1d4db86e43a3"
      },
      "execution_count": 35,
      "outputs": [
        {
          "output_type": "execute_result",
          "data": {
            "text/plain": [
              "True"
            ]
          },
          "metadata": {},
          "execution_count": 35
        }
      ]
    },
    {
      "cell_type": "code",
      "source": [
        "'a' in {'a':'apple', 'b':'banana'}"
      ],
      "metadata": {
        "colab": {
          "base_uri": "https://localhost:8080/"
        },
        "id": "9huK79eYDjRr",
        "outputId": "092dd3ed-a7a4-4814-d309-2c79696b524a"
      },
      "execution_count": 36,
      "outputs": [
        {
          "output_type": "execute_result",
          "data": {
            "text/plain": [
              "True"
            ]
          },
          "metadata": {},
          "execution_count": 36
        }
      ]
    },
    {
      "cell_type": "code",
      "source": [
        "# 응용예제 p85\n",
        "\n",
        "# 1\n",
        "no = input('10~99사이의 정수를 입력하세요 >>>')\n",
        "\n",
        "print(f'십의 자리 : {no[0]}')\n",
        "print(f'일의 자리 : {no[1]}')"
      ],
      "metadata": {
        "colab": {
          "base_uri": "https://localhost:8080/"
        },
        "id": "diHszXLDEAkv",
        "outputId": "4ccad709-4678-438b-e001-e1f8fc10fac3"
      },
      "execution_count": 37,
      "outputs": [
        {
          "output_type": "stream",
          "name": "stdout",
          "text": [
            "10~99사이의 정수를 입력하세요 >>>45\n",
            "십의 자리 : 4\n",
            "일의 자리 : 5\n"
          ]
        }
      ]
    },
    {
      "cell_type": "code",
      "source": [
        "no = int(input('10~99사이의 정수를 입력하세요 >>>'))\n",
        "\n",
        "print(f'십의 자리 : {no//10}')\n",
        "print(f'일의 자리 : {no%10}')"
      ],
      "metadata": {
        "colab": {
          "base_uri": "https://localhost:8080/"
        },
        "id": "YMN_t4CeFROk",
        "outputId": "9252d687-83b3-4f04-8762-02e4b727f9a0"
      },
      "execution_count": 38,
      "outputs": [
        {
          "output_type": "stream",
          "name": "stdout",
          "text": [
            "10~99사이의 정수를 입력하세요 >>>45\n",
            "십의 자리 : 4\n",
            "일의 자리 : 5\n"
          ]
        }
      ]
    },
    {
      "cell_type": "code",
      "source": [
        "# 2\n",
        "\n",
        "cho = int(input('초를 입력하세요 >>>'))\n",
        "\n",
        "print(f'변환 결과는 {cho//3600}시간{cho%3600//60}분{cho%60}초 입니다.')\n",
        "\n",
        "cho = 3690\n",
        "# 1시간 = 60분 = 1 * 60 * 60 초 = 3600초\n",
        "hour = cho // 3600  # 1시간\n",
        "minute = cho % 3600 // 60  # 1분\n",
        "second = cho % 60  # 초\n",
        "\n",
        "\n"
      ],
      "metadata": {
        "colab": {
          "base_uri": "https://localhost:8080/"
        },
        "id": "eN7wl8XrEjra",
        "outputId": "b701f4b3-9e6d-47ed-d0e8-404cc3f0f7e5"
      },
      "execution_count": 47,
      "outputs": [
        {
          "output_type": "stream",
          "name": "stdout",
          "text": [
            "초를 입력하세요 >>>3690\n",
            "변환 결과는 1시간1분30초 입니다.\n"
          ]
        }
      ]
    },
    {
      "cell_type": "code",
      "source": [
        "# 3\n",
        "no = int(input('4자리 사원번호를 입력하세요>>>'))\n",
        "no_1 = no % 10\n",
        "\n",
        "if no_1>=5:\n",
        "  print('근무 시간은 오전입니다.')\n",
        "else:\n",
        "  print('근무 시간은 오후입니다.')"
      ],
      "metadata": {
        "colab": {
          "base_uri": "https://localhost:8080/"
        },
        "id": "0gOr5DKFL37K",
        "outputId": "93631a8e-20f4-43ef-c6f9-89360edd231b"
      },
      "execution_count": 54,
      "outputs": [
        {
          "output_type": "stream",
          "name": "stdout",
          "text": [
            "4자리 사원번호를 입력하세요>>>1255\n",
            "근무 시간은 오전입니다.\n"
          ]
        }
      ]
    },
    {
      "cell_type": "code",
      "source": [
        "# 조건문 IF\n",
        "# 조건문은 특정 조건을 만족하는지의 여부에 따라 실행되는 코드가 달라져야 할 때 사용\n",
        "\n",
        "a = 0\n",
        "\n",
        "if a>0:\n",
        "  print('양수')"
      ],
      "metadata": {
        "id": "omQp8q63Nmt6"
      },
      "execution_count": 55,
      "outputs": []
    }
  ]
}