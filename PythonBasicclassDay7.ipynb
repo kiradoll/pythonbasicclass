{
  "nbformat": 4,
  "nbformat_minor": 0,
  "metadata": {
    "colab": {
      "name": "PythonBasicclassDay7.ipynb",
      "provenance": [],
      "authorship_tag": "ABX9TyOeHYBlZwiy0dMS4ijfn/GK",
      "include_colab_link": true
    },
    "kernelspec": {
      "name": "python3",
      "display_name": "Python 3"
    },
    "language_info": {
      "name": "python"
    }
  },
  "cells": [
    {
      "cell_type": "markdown",
      "metadata": {
        "id": "view-in-github",
        "colab_type": "text"
      },
      "source": [
        "<a href=\"https://colab.research.google.com/github/kiradoll/pythonbasicclass/blob/main/PythonBasicclassDay7.ipynb\" target=\"_parent\"><img src=\"https://colab.research.google.com/assets/colab-badge.svg\" alt=\"Open In Colab\"/></a>"
      ]
    },
    {
      "cell_type": "code",
      "execution_count": 1,
      "metadata": {
        "colab": {
          "base_uri": "https://localhost:8080/",
          "height": 35
        },
        "id": "Q8YhfDa5ELWp",
        "outputId": "8aaa3ae3-57d9-48ac-d246-d93a0444014c"
      },
      "outputs": [
        {
          "output_type": "execute_result",
          "data": {
            "application/vnd.google.colaboratory.intrinsic+json": {
              "type": "string"
            },
            "text/plain": [
              "'0'"
            ]
          },
          "metadata": {},
          "execution_count": 1
        }
      ],
      "source": [
        "chr(48)"
      ]
    },
    {
      "cell_type": "code",
      "source": [
        "chr(65)"
      ],
      "metadata": {
        "colab": {
          "base_uri": "https://localhost:8080/",
          "height": 35
        },
        "id": "SrpRnTLGH5XC",
        "outputId": "55fdfd8b-f26b-403c-8d7f-a90ed6476cfb"
      },
      "execution_count": 2,
      "outputs": [
        {
          "output_type": "execute_result",
          "data": {
            "application/vnd.google.colaboratory.intrinsic+json": {
              "type": "string"
            },
            "text/plain": [
              "'A'"
            ]
          },
          "metadata": {},
          "execution_count": 2
        }
      ]
    },
    {
      "cell_type": "code",
      "source": [
        "ord('A')"
      ],
      "metadata": {
        "colab": {
          "base_uri": "https://localhost:8080/"
        },
        "id": "s48Nv301H7Ah",
        "outputId": "091f76cb-9e0b-4bb2-9369-6893ce323084"
      },
      "execution_count": 3,
      "outputs": [
        {
          "output_type": "execute_result",
          "data": {
            "text/plain": [
              "65"
            ]
          },
          "metadata": {},
          "execution_count": 3
        }
      ]
    },
    {
      "cell_type": "code",
      "source": [
        "for item in enumerate(['가위','바위','보']):\n",
        "  print(item)"
      ],
      "metadata": {
        "colab": {
          "base_uri": "https://localhost:8080/"
        },
        "id": "4Sk7HTimICSE",
        "outputId": "f9e0253b-b372-40be-a095-1c4a9d23be4e"
      },
      "execution_count": 5,
      "outputs": [
        {
          "output_type": "stream",
          "name": "stdout",
          "text": [
            "(0, '가위')\n",
            "(1, '바위')\n",
            "(2, '보')\n"
          ]
        }
      ]
    },
    {
      "cell_type": "code",
      "source": [
        "for idx, item in enumerate(['가위','바위','보']):\n",
        "  print(idx+1, item)"
      ],
      "metadata": {
        "colab": {
          "base_uri": "https://localhost:8080/"
        },
        "id": "XzpBSaZyJANH",
        "outputId": "3d5708ee-3a96-48ca-ebc1-faa39e43e0ba"
      },
      "execution_count": 6,
      "outputs": [
        {
          "output_type": "stream",
          "name": "stdout",
          "text": [
            "1 가위\n",
            "2 바위\n",
            "3 보\n"
          ]
        }
      ]
    },
    {
      "cell_type": "code",
      "source": [
        "# page 164 Method\n",
        "\n",
        "name = input('이름을 입력하세요 >>> ')\n",
        "\n",
        "list = []\n",
        "\n",
        "list.append(name)\n",
        "\n",
        "print(list)"
      ],
      "metadata": {
        "colab": {
          "base_uri": "https://localhost:8080/"
        },
        "id": "5A9YC0POJ4I1",
        "outputId": "20d1a88b-dcb5-4b1e-f3fd-573515c06abe"
      },
      "execution_count": 7,
      "outputs": [
        {
          "output_type": "stream",
          "name": "stdout",
          "text": [
            "이름을 입력하세요 >>> 박신애\n",
            "['박신애']\n"
          ]
        }
      ]
    },
    {
      "cell_type": "code",
      "source": [
        "s = '내가 그린 기린 그림은 목 긴 기린 그림이고, 네가 그린 기린 그림은 목 짧은 기린 그림이다.'\n",
        "s.count('기린')"
      ],
      "metadata": {
        "colab": {
          "base_uri": "https://localhost:8080/"
        },
        "id": "DCCO_2kNKWqy",
        "outputId": "326fd99b-8316-4981-8e05-7052e357f2dd"
      },
      "execution_count": 8,
      "outputs": [
        {
          "output_type": "execute_result",
          "data": {
            "text/plain": [
              "4"
            ]
          },
          "metadata": {},
          "execution_count": 8
        }
      ]
    },
    {
      "cell_type": "code",
      "source": [
        "s = 'best of best'\n",
        "s.count('best', 5)"
      ],
      "metadata": {
        "colab": {
          "base_uri": "https://localhost:8080/"
        },
        "id": "QvOAtRU2Kpbi",
        "outputId": "057f466c-bc7b-4163-ca63-e994611880d4"
      },
      "execution_count": 9,
      "outputs": [
        {
          "output_type": "execute_result",
          "data": {
            "text/plain": [
              "1"
            ]
          },
          "metadata": {},
          "execution_count": 9
        }
      ]
    },
    {
      "cell_type": "code",
      "source": [
        "s = 'Life is to short'\n",
        "\n",
        "s.split()"
      ],
      "metadata": {
        "colab": {
          "base_uri": "https://localhost:8080/"
        },
        "id": "mL938U0TLkCx",
        "outputId": "d4f56bf0-905f-45c6-a968-83ddb36fe0d9"
      },
      "execution_count": 10,
      "outputs": [
        {
          "output_type": "execute_result",
          "data": {
            "text/plain": [
              "['Life', 'is', 'to', 'short']"
            ]
          },
          "metadata": {},
          "execution_count": 10
        }
      ]
    },
    {
      "cell_type": "code",
      "source": [
        "s = '010-1234-5678'\n",
        "\n",
        "s.split('-')"
      ],
      "metadata": {
        "colab": {
          "base_uri": "https://localhost:8080/"
        },
        "id": "jYIHYis9LtLW",
        "outputId": "6b2a9d4d-66cf-4f02-a8e9-f6970fbc81fc"
      },
      "execution_count": 11,
      "outputs": [
        {
          "output_type": "execute_result",
          "data": {
            "text/plain": [
              "['010', '1234', '5678']"
            ]
          },
          "metadata": {},
          "execution_count": 11
        }
      ]
    },
    {
      "cell_type": "code",
      "source": [
        "s = '제임스,25,남,서울'\n",
        "s.split(',')"
      ],
      "metadata": {
        "colab": {
          "base_uri": "https://localhost:8080/"
        },
        "id": "SUd2ZhR8LzY3",
        "outputId": "52cfabc4-4ab8-4278-d57d-0741fe905063"
      },
      "execution_count": 12,
      "outputs": [
        {
          "output_type": "execute_result",
          "data": {
            "text/plain": [
              "['제임스', '25', '남', '서울']"
            ]
          },
          "metadata": {},
          "execution_count": 12
        }
      ]
    },
    {
      "cell_type": "code",
      "source": [
        "ques = input('이름과 나이를 함께 입력하세요(예 : 홍길동 26')\n",
        "ques.split()"
      ],
      "metadata": {
        "colab": {
          "base_uri": "https://localhost:8080/"
        },
        "id": "Hp6Mhb-8MDPV",
        "outputId": "434f7361-ff0f-4761-fad0-73bfcc4169a6"
      },
      "execution_count": 13,
      "outputs": [
        {
          "name": "stdout",
          "output_type": "stream",
          "text": [
            "이름과 나이를 함께 입력하세요(예 : 홍길동 26홍길동 26\n"
          ]
        },
        {
          "output_type": "execute_result",
          "data": {
            "text/plain": [
              "['홍길동', '26']"
            ]
          },
          "metadata": {},
          "execution_count": 13
        }
      ]
    },
    {
      "cell_type": "code",
      "source": [
        "# 사용자 정의 함수 - 사용자가 직접 만든 함수\n",
        "# 입력 input\n",
        "# 출력 output\n",
        "\n",
        "# 1. 입력이 있고 리턴이 있는 함수\n",
        "# 2. 입력이 있고 리턴은 없는 함수\n",
        "# 3. 입력이 없고 리턴은 있는 함수\n",
        "# 4. 입력도 없고 리턴도 없는 함수\n",
        "\n",
        "          # def 함수이름(매개변수):\n",
        "          # 본문\n",
        "          # return 반환값"
      ],
      "metadata": {
        "id": "mv3Uvi29NHYj"
      },
      "execution_count": null,
      "outputs": []
    },
    {
      "cell_type": "code",
      "source": [
        "# 입력도 없고 리턴도 없는 함수\n",
        "\n",
        "def welcome():\n",
        "  print('Hello python')\n",
        "  print('Nice to  meet you')\n",
        "\n",
        "welcome()"
      ],
      "metadata": {
        "colab": {
          "base_uri": "https://localhost:8080/"
        },
        "id": "F9LUxMt-O3s3",
        "outputId": "e1cb2fd6-ea26-48c8-8c88-98c48a66a9e3"
      },
      "execution_count": 16,
      "outputs": [
        {
          "output_type": "stream",
          "name": "stdout",
          "text": [
            "Hello python\n",
            "Nice to meet you\n"
          ]
        }
      ]
    },
    {
      "cell_type": "code",
      "source": [
        "# 입력은 있고 리턴은 없는 함수\n",
        "\n",
        "def introduce(name, age):\n",
        "  print(f'내 이름은 {name}이고, 나이는 {age}입니다.')\n",
        "\n",
        "introduce('james', 25)\n",
        "introduce('andy', 22)"
      ],
      "metadata": {
        "colab": {
          "base_uri": "https://localhost:8080/"
        },
        "id": "ra6whOv2TVxr",
        "outputId": "c7cf7124-049d-4df5-eb78-9ff7e5beac83"
      },
      "execution_count": 18,
      "outputs": [
        {
          "output_type": "stream",
          "name": "stdout",
          "text": [
            "내 이름은 james이고, 나이는 25입니다.\n",
            "내 이름은 andy이고, 나이는 22입니다.\n"
          ]
        }
      ]
    },
    {
      "cell_type": "code",
      "source": [
        "def show(*items):\n",
        "  for item in items:\n",
        "    print(item)\n",
        "\n",
        "show('python')\n",
        "show('happy','birthday')"
      ],
      "metadata": {
        "colab": {
          "base_uri": "https://localhost:8080/"
        },
        "id": "fX4Wc2NtUKyl",
        "outputId": "e7fed183-45df-4228-816c-2b0721c78404"
      },
      "execution_count": 20,
      "outputs": [
        {
          "output_type": "stream",
          "name": "stdout",
          "text": [
            "python\n",
            "happy\n",
            "birthday\n"
          ]
        }
      ]
    },
    {
      "cell_type": "code",
      "source": [
        "\n",
        "def addsum(*args):\n",
        "  sum = 0\n",
        "  for arg in args:\n",
        "    sum = sum + arg\n",
        "  print(sum)\n",
        "\n",
        "def addsum2(a,b):\n",
        "  print(a+b)\n",
        "\n",
        "def addsum3(a,b,c):\n",
        "  print(a+b+c)\n",
        "\n",
        "addsum(1,2)\n",
        "addsum(1,2,3,4)"
      ],
      "metadata": {
        "colab": {
          "base_uri": "https://localhost:8080/"
        },
        "id": "z3kKYcl9Unik",
        "outputId": "45efada1-8d10-4b08-bdd4-49cb9f25c72b"
      },
      "execution_count": 23,
      "outputs": [
        {
          "output_type": "stream",
          "name": "stdout",
          "text": [
            "3\n",
            "10\n"
          ]
        }
      ]
    },
    {
      "cell_type": "code",
      "source": [
        "# 가변 매개변수\n",
        "\n",
        "def greet(message = '안녕하세요'):\n",
        "  print(message)\n",
        "\n",
        "greet('반갑습니다.')\n",
        "greet()"
      ],
      "metadata": {
        "colab": {
          "base_uri": "https://localhost:8080/"
        },
        "id": "ooeBTKMwWM43",
        "outputId": "ed1bb96e-a4e3-4673-b7ce-7181871326b8"
      },
      "execution_count": 24,
      "outputs": [
        {
          "output_type": "stream",
          "name": "stdout",
          "text": [
            "반갑습니다.\n",
            "안녕하세요\n"
          ]
        }
      ]
    },
    {
      "cell_type": "code",
      "source": [
        "# 디폴트 매개변수는 마지막에 위치시킨다.\n",
        "\n",
        "def greet(name, message = '안녕하세요'):\n",
        "  print(f'{name}님 {message}')\n",
        "\n",
        "greet('김철수')"
      ],
      "metadata": {
        "colab": {
          "base_uri": "https://localhost:8080/"
        },
        "id": "KeQAKo9eWqm2",
        "outputId": "1d0edf20-f59b-4651-995c-ce341b2adbf2"
      },
      "execution_count": 26,
      "outputs": [
        {
          "output_type": "stream",
          "name": "stdout",
          "text": [
            "김철수님 안녕하세요\n"
          ]
        }
      ]
    },
    {
      "cell_type": "code",
      "source": [
        "# 입력이 없고 리턴이 있는 함수\n",
        "\n",
        "def address():\n",
        "  str = '우편번호 12345\\n'\n",
        "  str += '서울시 영등포구 여의도동'\n",
        "  return str\n",
        "\n",
        "print(address())"
      ],
      "metadata": {
        "colab": {
          "base_uri": "https://localhost:8080/"
        },
        "id": "O-JDjT2OXYQW",
        "outputId": "9532cd7b-c881-4bd7-f852-b0b34b19c2f0"
      },
      "execution_count": 27,
      "outputs": [
        {
          "output_type": "stream",
          "name": "stdout",
          "text": [
            "우편번호 12345\n",
            "서울시 영등포구 여의도동\n"
          ]
        }
      ]
    },
    {
      "cell_type": "code",
      "source": [
        "def address():\n",
        "  str = '우편번호 12345\\n'\n",
        "  str += '서울시 영등포구 여의도동'\n",
        "  print(str)\n",
        "\n",
        "address()"
      ],
      "metadata": {
        "colab": {
          "base_uri": "https://localhost:8080/"
        },
        "id": "hywL5pEjX1s-",
        "outputId": "3bf3bf1f-b60d-46fa-abac-8bcc1320afcc"
      },
      "execution_count": 28,
      "outputs": [
        {
          "output_type": "stream",
          "name": "stdout",
          "text": [
            "우편번호 12345\n",
            "서울시 영등포구 여의도동\n"
          ]
        }
      ]
    },
    {
      "cell_type": "code",
      "source": [
        "def calculator(*args):\n",
        "  return sum(args), sum(args)/len(args), max(args), min(args)\n",
        "\n",
        "a,b,c,d = calculator(1,2,3,4,5)\n",
        "print(a)\n",
        "print(b)\n",
        "print(c)\n",
        "print(d)"
      ],
      "metadata": {
        "colab": {
          "base_uri": "https://localhost:8080/"
        },
        "id": "D5WANBU9YNVk",
        "outputId": "f768a515-758f-44c8-fcc6-2a23d0e6f06d"
      },
      "execution_count": 31,
      "outputs": [
        {
          "output_type": "stream",
          "name": "stdout",
          "text": [
            "15\n",
            "3.0\n",
            "5\n",
            "1\n"
          ]
        }
      ]
    },
    {
      "cell_type": "code",
      "source": [
        "def charge(energy):\n",
        "  if energy < 0:\n",
        "    print('0보다 작은 에너지는 충전할 수 없습니다.')\n",
        "    return\n",
        "  print('에너지가 충전되었습니다.')  \n",
        "\n",
        "charge(-1)"
      ],
      "metadata": {
        "colab": {
          "base_uri": "https://localhost:8080/"
        },
        "id": "qHHdyYdRadeq",
        "outputId": "14c2ab76-d087-4e2a-8d7c-aabca78f818b"
      },
      "execution_count": 34,
      "outputs": [
        {
          "output_type": "stream",
          "name": "stdout",
          "text": [
            "0보다 작은 에너지는 충전할 수 없습니다.\n"
          ]
        }
      ]
    },
    {
      "cell_type": "code",
      "source": [
        "# local variable & global variable\n",
        "\n",
        "# local variable 지역 변수\n",
        "\n",
        "def f():\n",
        "  a = 10\n",
        "  print(f'내부 : {a}')\n",
        "\n",
        "f()\n",
        "\n",
        "print(f'외부 : {a}')"
      ],
      "metadata": {
        "colab": {
          "base_uri": "https://localhost:8080/"
        },
        "id": "oMf-UsCjbYfb",
        "outputId": "98862f41-4bf3-4503-bc4d-f2d629fb709e"
      },
      "execution_count": 37,
      "outputs": [
        {
          "output_type": "stream",
          "name": "stdout",
          "text": [
            "내부 : 10\n",
            "외부 : 15\n"
          ]
        }
      ]
    },
    {
      "cell_type": "code",
      "source": [
        "# global variable  전역 변수\n",
        "\n",
        "b = 10\n",
        "\n",
        "def f():\n",
        "  print(f'내부 : {b}')\n",
        "\n",
        "f()\n",
        "\n",
        "print(f'외부 : {b}')"
      ],
      "metadata": {
        "colab": {
          "base_uri": "https://localhost:8080/"
        },
        "id": "CIIblbK6c1wT",
        "outputId": "6780b484-b40b-4080-f704-737fb4ebe7d2"
      },
      "execution_count": 39,
      "outputs": [
        {
          "output_type": "stream",
          "name": "stdout",
          "text": [
            "내부 : 10\n",
            "외부 : 10\n"
          ]
        }
      ]
    },
    {
      "cell_type": "code",
      "source": [
        "a = 0\n",
        "\n",
        "def f():\n",
        "  global a\n",
        "  a = 10\n",
        "  print(a)\n",
        "\n",
        "f()\n",
        "\n",
        "print(a)"
      ],
      "metadata": {
        "colab": {
          "base_uri": "https://localhost:8080/"
        },
        "id": "urb7TQ-Ado2_",
        "outputId": "7d2bbbe6-d6b9-42ba-9c08-5a9d70da7ac7"
      },
      "execution_count": 41,
      "outputs": [
        {
          "output_type": "stream",
          "name": "stdout",
          "text": [
            "10\n",
            "10\n"
          ]
        }
      ]
    },
    {
      "cell_type": "code",
      "source": [
        "# 1\n",
        "\n",
        "def vending_machine(money):\n",
        "  price = 700    # 700, 1400, 2100, 2800\n",
        "\n",
        "  for i in range((money // price)+1):\n",
        "    coin = money - price * i\n",
        "    print(f'음료수 = {i}개, 잔돈 = {coin}원')\n",
        "\n",
        "vending_machine(3000)"
      ],
      "metadata": {
        "colab": {
          "base_uri": "https://localhost:8080/"
        },
        "id": "toGpbBTxg9Vn",
        "outputId": "432efbb3-00d0-44b8-f6db-d04823a89887"
      },
      "execution_count": 46,
      "outputs": [
        {
          "output_type": "stream",
          "name": "stdout",
          "text": [
            "음료수 = 0개, 잔돈 = 3000원\n",
            "음료수 = 1개, 잔돈 = 2300원\n",
            "음료수 = 2개, 잔돈 = 1600원\n",
            "음료수 = 3개, 잔돈 = 900원\n",
            "음료수 = 4개, 잔돈 = 200원\n"
          ]
        }
      ]
    },
    {
      "cell_type": "code",
      "source": [
        "# 2\n",
        "\n",
        "def get_average(marks):\n",
        "  sum = 0\n",
        "  for i in marks:\n",
        "    sum += marks[i]\n",
        "  return sum/len(marks)\n",
        "\n",
        "\n",
        "marks = {'국어':90, '영어':80, '수학':85}\n",
        "average = get_average(marks)\n",
        "print(f'평균은 {average}입니다.')"
      ],
      "metadata": {
        "colab": {
          "base_uri": "https://localhost:8080/"
        },
        "id": "-TQ5-03zjNhg",
        "outputId": "c2333618-8715-422c-815a-af695f796c57"
      },
      "execution_count": 49,
      "outputs": [
        {
          "output_type": "stream",
          "name": "stdout",
          "text": [
            "평균은 85.0입니다.\n"
          ]
        }
      ]
    },
    {
      "cell_type": "code",
      "source": [
        "# 3\n",
        "\n",
        "total = 0\n",
        "def gift(dic,who,money):\n",
        "  global total\n",
        "  total += money\n",
        "  dic[who] = money\n",
        "\n",
        "wedding = {}\n",
        "gift(wedding, '영희', 5)\n",
        "gift(wedding, '철수', 3)\n",
        "gift(wedding, '이모', 10)\n",
        "\n",
        "print(f'축의금 명단:{wedding}')\n",
        "print(f'전체 축의금:{total}')"
      ],
      "metadata": {
        "colab": {
          "base_uri": "https://localhost:8080/"
        },
        "id": "mgLw75Edlm9h",
        "outputId": "12c56e9a-4fe2-4135-fd95-85f2ed9341e3"
      },
      "execution_count": 55,
      "outputs": [
        {
          "output_type": "stream",
          "name": "stdout",
          "text": [
            "축의금 명단:{'영희': 5, '철수': 3, '이모': 10}\n",
            "전체 축의금:18\n"
          ]
        }
      ]
    },
    {
      "cell_type": "code",
      "source": [
        "# 모듈과 임포트\n",
        "\n",
        "# 모듈 : 재사용이 가능하도록 변수, 함수, 클래스 등을 모아놓은 .py"
      ],
      "metadata": {
        "id": "FjpVaetfokzT"
      },
      "execution_count": null,
      "outputs": []
    }
  ]
}