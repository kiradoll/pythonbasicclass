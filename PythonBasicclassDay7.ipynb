{
  "nbformat": 4,
  "nbformat_minor": 0,
  "metadata": {
    "colab": {
      "name": "PythonBasicclassDay7.ipynb",
      "provenance": [],
      "authorship_tag": "ABX9TyO4Uf+SZ/jCwJWLZpbxUgLT",
      "include_colab_link": true
    },
    "kernelspec": {
      "name": "python3",
      "display_name": "Python 3"
    },
    "language_info": {
      "name": "python"
    }
  },
  "cells": [
    {
      "cell_type": "markdown",
      "metadata": {
        "id": "view-in-github",
        "colab_type": "text"
      },
      "source": [
        "<a href=\"https://colab.research.google.com/github/kiradoll/pythonbasicclass/blob/main/PythonBasicclassDay7.ipynb\" target=\"_parent\"><img src=\"https://colab.research.google.com/assets/colab-badge.svg\" alt=\"Open In Colab\"/></a>"
      ]
    },
    {
      "cell_type": "code",
      "execution_count": 1,
      "metadata": {
        "colab": {
          "base_uri": "https://localhost:8080/",
          "height": 35
        },
        "id": "Q8YhfDa5ELWp",
        "outputId": "8aaa3ae3-57d9-48ac-d246-d93a0444014c"
      },
      "outputs": [
        {
          "output_type": "execute_result",
          "data": {
            "application/vnd.google.colaboratory.intrinsic+json": {
              "type": "string"
            },
            "text/plain": [
              "'0'"
            ]
          },
          "metadata": {},
          "execution_count": 1
        }
      ],
      "source": [
        "chr(48)"
      ]
    },
    {
      "cell_type": "code",
      "source": [
        "chr(65)"
      ],
      "metadata": {
        "colab": {
          "base_uri": "https://localhost:8080/",
          "height": 35
        },
        "id": "SrpRnTLGH5XC",
        "outputId": "55fdfd8b-f26b-403c-8d7f-a90ed6476cfb"
      },
      "execution_count": 2,
      "outputs": [
        {
          "output_type": "execute_result",
          "data": {
            "application/vnd.google.colaboratory.intrinsic+json": {
              "type": "string"
            },
            "text/plain": [
              "'A'"
            ]
          },
          "metadata": {},
          "execution_count": 2
        }
      ]
    },
    {
      "cell_type": "code",
      "source": [
        "ord('A')"
      ],
      "metadata": {
        "colab": {
          "base_uri": "https://localhost:8080/"
        },
        "id": "s48Nv301H7Ah",
        "outputId": "091f76cb-9e0b-4bb2-9369-6893ce323084"
      },
      "execution_count": 3,
      "outputs": [
        {
          "output_type": "execute_result",
          "data": {
            "text/plain": [
              "65"
            ]
          },
          "metadata": {},
          "execution_count": 3
        }
      ]
    },
    {
      "cell_type": "code",
      "source": [
        "for item in enumerate(['가위','바위','보']):\n",
        "  print(item)"
      ],
      "metadata": {
        "colab": {
          "base_uri": "https://localhost:8080/"
        },
        "id": "4Sk7HTimICSE",
        "outputId": "f9e0253b-b372-40be-a095-1c4a9d23be4e"
      },
      "execution_count": 5,
      "outputs": [
        {
          "output_type": "stream",
          "name": "stdout",
          "text": [
            "(0, '가위')\n",
            "(1, '바위')\n",
            "(2, '보')\n"
          ]
        }
      ]
    },
    {
      "cell_type": "code",
      "source": [
        "for idx, item in enumerate(['가위','바위','보']):\n",
        "  print(idx+1, item)"
      ],
      "metadata": {
        "colab": {
          "base_uri": "https://localhost:8080/"
        },
        "id": "XzpBSaZyJANH",
        "outputId": "3d5708ee-3a96-48ca-ebc1-faa39e43e0ba"
      },
      "execution_count": 6,
      "outputs": [
        {
          "output_type": "stream",
          "name": "stdout",
          "text": [
            "1 가위\n",
            "2 바위\n",
            "3 보\n"
          ]
        }
      ]
    },
    {
      "cell_type": "code",
      "source": [
        "# page 164 Method\n",
        "\n",
        "name = input('이름을 입력하세요 >>> ')\n",
        "\n",
        "list = []\n",
        "\n",
        "list.append(name)\n",
        "\n",
        "print(list)"
      ],
      "metadata": {
        "colab": {
          "base_uri": "https://localhost:8080/"
        },
        "id": "5A9YC0POJ4I1",
        "outputId": "20d1a88b-dcb5-4b1e-f3fd-573515c06abe"
      },
      "execution_count": 7,
      "outputs": [
        {
          "output_type": "stream",
          "name": "stdout",
          "text": [
            "이름을 입력하세요 >>> 박신애\n",
            "['박신애']\n"
          ]
        }
      ]
    },
    {
      "cell_type": "code",
      "source": [
        "s = '내가 그린 기린 그림은 목 긴 기린 그림이고, 네가 그린 기린 그림은 목 짧은 기린 그림이다.'\n",
        "s.count('기린')"
      ],
      "metadata": {
        "colab": {
          "base_uri": "https://localhost:8080/"
        },
        "id": "DCCO_2kNKWqy",
        "outputId": "326fd99b-8316-4981-8e05-7052e357f2dd"
      },
      "execution_count": 8,
      "outputs": [
        {
          "output_type": "execute_result",
          "data": {
            "text/plain": [
              "4"
            ]
          },
          "metadata": {},
          "execution_count": 8
        }
      ]
    },
    {
      "cell_type": "code",
      "source": [
        "s = 'best of best'\n",
        "s.count('best', 5)"
      ],
      "metadata": {
        "colab": {
          "base_uri": "https://localhost:8080/"
        },
        "id": "QvOAtRU2Kpbi",
        "outputId": "057f466c-bc7b-4163-ca63-e994611880d4"
      },
      "execution_count": 9,
      "outputs": [
        {
          "output_type": "execute_result",
          "data": {
            "text/plain": [
              "1"
            ]
          },
          "metadata": {},
          "execution_count": 9
        }
      ]
    },
    {
      "cell_type": "code",
      "source": [
        "s = 'Life is to short'\n",
        "\n",
        "s.split()"
      ],
      "metadata": {
        "colab": {
          "base_uri": "https://localhost:8080/"
        },
        "id": "mL938U0TLkCx",
        "outputId": "d4f56bf0-905f-45c6-a968-83ddb36fe0d9"
      },
      "execution_count": 10,
      "outputs": [
        {
          "output_type": "execute_result",
          "data": {
            "text/plain": [
              "['Life', 'is', 'to', 'short']"
            ]
          },
          "metadata": {},
          "execution_count": 10
        }
      ]
    },
    {
      "cell_type": "code",
      "source": [
        "s = '010-1234-5678'\n",
        "\n",
        "s.split('-')"
      ],
      "metadata": {
        "colab": {
          "base_uri": "https://localhost:8080/"
        },
        "id": "jYIHYis9LtLW",
        "outputId": "6b2a9d4d-66cf-4f02-a8e9-f6970fbc81fc"
      },
      "execution_count": 11,
      "outputs": [
        {
          "output_type": "execute_result",
          "data": {
            "text/plain": [
              "['010', '1234', '5678']"
            ]
          },
          "metadata": {},
          "execution_count": 11
        }
      ]
    },
    {
      "cell_type": "code",
      "source": [
        "s = '제임스,25,남,서울'\n",
        "s.split(',')"
      ],
      "metadata": {
        "colab": {
          "base_uri": "https://localhost:8080/"
        },
        "id": "SUd2ZhR8LzY3",
        "outputId": "52cfabc4-4ab8-4278-d57d-0741fe905063"
      },
      "execution_count": 12,
      "outputs": [
        {
          "output_type": "execute_result",
          "data": {
            "text/plain": [
              "['제임스', '25', '남', '서울']"
            ]
          },
          "metadata": {},
          "execution_count": 12
        }
      ]
    },
    {
      "cell_type": "code",
      "source": [
        "ques = input('이름과 나이를 함께 입력하세요(예 : 홍길동 26')\n",
        "ques.split()"
      ],
      "metadata": {
        "colab": {
          "base_uri": "https://localhost:8080/"
        },
        "id": "Hp6Mhb-8MDPV",
        "outputId": "434f7361-ff0f-4761-fad0-73bfcc4169a6"
      },
      "execution_count": 13,
      "outputs": [
        {
          "name": "stdout",
          "output_type": "stream",
          "text": [
            "이름과 나이를 함께 입력하세요(예 : 홍길동 26홍길동 26\n"
          ]
        },
        {
          "output_type": "execute_result",
          "data": {
            "text/plain": [
              "['홍길동', '26']"
            ]
          },
          "metadata": {},
          "execution_count": 13
        }
      ]
    },
    {
      "cell_type": "code",
      "source": [
        "# 사용자 정의 함수 - 사용자가 직접 만든 함수\n",
        "# 입력 input\n",
        "# 출력 output\n",
        "\n",
        "# 1. 입력이 있고 리턴이 있는 함수\n",
        "# 2. 입력이 있고 리턴은 없는 함수\n",
        "# 3. 입력이 없고 리턴은 있는 함수\n",
        "# 4. 입력도 없고 리턴도 없는 함수\n",
        "\n",
        "          # def 함수이름(매개변수):\n",
        "          # 본문\n",
        "          # return 반환값"
      ],
      "metadata": {
        "id": "mv3Uvi29NHYj"
      },
      "execution_count": null,
      "outputs": []
    },
    {
      "cell_type": "code",
      "source": [
        "# 입력도 없고 리턴도 없는 함수\n",
        "\n",
        "def welcome():\n",
        "  print('Hello python')\n",
        "  print('Nice to  meet you')\n",
        "\n",
        "welcome()"
      ],
      "metadata": {
        "colab": {
          "base_uri": "https://localhost:8080/"
        },
        "id": "F9LUxMt-O3s3",
        "outputId": "e1cb2fd6-ea26-48c8-8c88-98c48a66a9e3"
      },
      "execution_count": 16,
      "outputs": [
        {
          "output_type": "stream",
          "name": "stdout",
          "text": [
            "Hello python\n",
            "Nice to meet you\n"
          ]
        }
      ]
    }
  ]
}